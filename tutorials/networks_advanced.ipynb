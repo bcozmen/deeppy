{
 "cells": [
  {
   "cell_type": "markdown",
   "id": "b274ce9a-924e-41d3-9d1c-843bc23e252e",
   "metadata": {},
   "source": [
    "# Networks (Advanced) Tutorial"
   ]
  },
  {
   "cell_type": "code",
   "execution_count": 1,
   "id": "bd8fc472-f39c-4e8f-8295-bfcd16636853",
   "metadata": {},
   "outputs": [],
   "source": [
    "import sys\n",
    "import os\n",
    "import time\n",
    "# Add the path to the parent module\n",
    "sys.path.append(os.path.abspath('../..'))"
   ]
  },
  {
   "cell_type": "code",
   "execution_count": 2,
   "id": "646ef44f-8c72-43fc-9d36-908863dad0fb",
   "metadata": {},
   "outputs": [],
   "source": [
    "import matplotlib.pyplot as plt\n",
    "\n",
    "import torch\n",
    "import torch.nn as nn\n",
    "import torch.optim as optim\n",
    "\n",
    "import numpy as np\n",
    "\n",
    "from deeppy import LearnFrame, DataGetter, Network, Model\n",
    "\n",
    "\n",
    "\n",
    "device = torch.device(\"cuda\" if torch.cuda.is_available() else \"cpu\")\n"
   ]
  },
  {
   "cell_type": "markdown",
   "id": "fa4288ea-5139-43d9-aec5-6ae6494d26a4",
   "metadata": {},
   "source": [
    "# Data"
   ]
  },
  {
   "cell_type": "markdown",
   "id": "83c8da67-6b06-4cc1-a201-a8d85a5508cc",
   "metadata": {},
   "source": [
    "#### MNIST Classification\n",
    "\n",
    "In this tutorial we want to show how to create more complex networks. We want to create a CNN network and 2 Linear layers.\n",
    "\n",
    "Let's classify MNIST dataset"
   ]
  },
  {
   "cell_type": "code",
   "execution_count": 3,
   "id": "3a7ca1b2-46d6-414a-8087-ea9dd191dfd2",
   "metadata": {},
   "outputs": [
    {
     "name": "stderr",
     "output_type": "stream",
     "text": [
      "/home/boz/anaconda3/envs/deeppy/lib/python3.13/site-packages/torchvision/datasets/mnist.py:76: UserWarning: train_data has been renamed data\n",
      "  warnings.warn(\"train_data has been renamed data\")\n",
      "/home/boz/anaconda3/envs/deeppy/lib/python3.13/site-packages/torchvision/datasets/mnist.py:66: UserWarning: train_labels has been renamed targets\n",
      "  warnings.warn(\"train_labels has been renamed targets\")\n"
     ]
    }
   ],
   "source": [
    "from torchvision import datasets\n",
    "from torchvision.transforms import ToTensor\n",
    "training_data = datasets.MNIST(\n",
    "    root=\"datasets\",\n",
    "    train=True,\n",
    "    download=True,\n",
    "    transform=ToTensor()\n",
    ")\n",
    "\n",
    "test_data = datasets.MNIST(\n",
    "    root=\"datasets\",\n",
    "    train=False,\n",
    "    download=True,\n",
    "    transform=ToTensor()\n",
    ")\n",
    "\n",
    "X,X_test = training_data.train_data.unsqueeze(1) / 255, test_data.train_data.unsqueeze(1) / 255\n",
    "y, y_test = training_data.train_labels, test_data.train_labels\n",
    "batch_size = 128\n",
    "data = DataGetter(X=X,y=y,X_test = X_test, y_test= y_test, batch_size = batch_size)\n",
    "\n",
    "data_set_epochs = len(X) / batch_size"
   ]
  },
  {
   "cell_type": "markdown",
   "id": "a035df87-b378-440c-939c-b23195c47d5e",
   "metadata": {},
   "source": [
    "# Model"
   ]
  },
  {
   "cell_type": "markdown",
   "id": "f90108f8-9dda-4224-ab4c-16920a6ac4a3",
   "metadata": {},
   "source": [
    "#### CNN \n",
    "\n",
    "Let's create 2 layer CNN network with Relu activation. We want to have \n",
    "\n",
    "[1 -> 32]\n",
    "\n",
    "[32 -> 64]\n",
    "\n",
    "channels\n",
    "\n"
   ]
  },
  {
   "cell_type": "code",
   "execution_count": 4,
   "id": "1cd0caf4-ae3c-4403-9a35-428d58fb596c",
   "metadata": {},
   "outputs": [],
   "source": [
    "cnn = {\n",
    "            \"layers\":[1,32,64],\n",
    "            \"blocks\":[nn.Conv2d, nn.ReLU,],\n",
    "            \"block_args\": [{\"kernel_size\" : 3, \"stride\":1, \"padding\"  : 1} , {} ],\n",
    "            \"out_act\":nn.ReLU,\n",
    "            \"weight_init\":\"uniform\",\n",
    "}"
   ]
  },
  {
   "cell_type": "markdown",
   "id": "e610c3c3-7e49-4f79-9fa9-581ff25c3844",
   "metadata": {},
   "source": [
    "#### MaxPool and Dropout after CNN\n",
    "\n",
    "We also want to add a MaxPool and Dropout layers after the CNN architecture.\n",
    "\n"
   ]
  },
  {
   "cell_type": "code",
   "execution_count": 5,
   "id": "49d9fa29-78c4-406b-87f5-81e8dac76961",
   "metadata": {},
   "outputs": [],
   "source": [
    "pool_drouput = {\n",
    "    \"blocks\" : [nn.MaxPool2d, nn.Dropout],\n",
    "    \"block_args\" : [{\"kernel_size\":2}, {\"p\":0.25}]\n",
    "}"
   ]
  },
  {
   "cell_type": "markdown",
   "id": "44c665a5-53c6-48a9-875e-8eb2fe11962d",
   "metadata": {},
   "source": [
    "#### Dense layer bridge\n",
    "\n",
    "Since after the CNN, we want to use a dense layer we need to flatten our image. You can use nn.Flatten easily, however we want to show you how you can write your own layers\n",
    "\n",
    "See: https://pytorch.org/docs/stable/notes/extending.html"
   ]
  },
  {
   "cell_type": "code",
   "execution_count": 6,
   "id": "d32d7954-9a9e-404c-8d9a-a8006284af48",
   "metadata": {},
   "outputs": [],
   "source": [
    "\n",
    "class Flatten(nn.Module):\n",
    "    def __init__(self, start_dim: int = 1, end_dim: int = -1) -> None:\n",
    "        super().__init__()\n",
    "        self.start_dim = start_dim\n",
    "        self.end_dim = end_dim\n",
    "\n",
    "    def forward(self, input):\n",
    "        return input.flatten(self.start_dim, self.end_dim)\n",
    "\n",
    "flatten = {\n",
    "    \"blocks\" : [Flatten]\n",
    "}"
   ]
  },
  {
   "cell_type": "markdown",
   "id": "c0c6cee1-6340-4315-9f83-f30f3bd0663f",
   "metadata": {},
   "source": [
    "#### Dense Layer"
   ]
  },
  {
   "cell_type": "code",
   "execution_count": 7,
   "id": "ea2c0c06-9691-4970-bb62-e1f32e96abea",
   "metadata": {},
   "outputs": [],
   "source": [
    "dense = {\n",
    "    \"layers\":[64*14*14, 128, 10],\n",
    "    \"blocks\":[nn.Linear, nn.ReLU],\n",
    "    \"block_args\":[],\n",
    "    \"out_act\":nn.Identity,\n",
    "    \"weight_init\":\"uniform\",\n",
    "}\n"
   ]
  },
  {
   "cell_type": "markdown",
   "id": "7368ed36-0815-4bb1-a01f-0e3a1fdd7de9",
   "metadata": {},
   "source": [
    "#### Network"
   ]
  },
  {
   "cell_type": "code",
   "execution_count": 8,
   "id": "19c77c1c-7d6e-43a2-be8e-8fd80048a754",
   "metadata": {},
   "outputs": [
    {
     "name": "stdout",
     "output_type": "stream",
     "text": [
      "Network(\n",
      "  (model): Sequential(\n",
      "    (0): Conv2d(1, 32, kernel_size=(3, 3), stride=(1, 1), padding=(1, 1))\n",
      "    (1): ReLU()\n",
      "    (2): Conv2d(32, 64, kernel_size=(3, 3), stride=(1, 1), padding=(1, 1))\n",
      "    (3): ReLU()\n",
      "    (4): MaxPool2d(kernel_size=2, stride=2, padding=0, dilation=1, ceil_mode=False)\n",
      "    (5): Dropout(p=0.25, inplace=False)\n",
      "    (6): Flatten()\n",
      "    (7): Linear(in_features=12544, out_features=128, bias=True)\n",
      "    (8): ReLU()\n",
      "    (9): Linear(in_features=128, out_features=10, bias=True)\n",
      "    (10): Identity()\n",
      "  )\n",
      ")\n",
      "----------\n",
      "torch.Size([128, 1, 28, 28])\n",
      "out shpae : torch.Size([128, 10])\n"
     ]
    }
   ],
   "source": [
    "network_params = [cnn, pool_drouput, flatten, dense]\n",
    "\n",
    "\n",
    "Scheduler_params = {\n",
    "    \"scheduler\" : optim.lr_scheduler.StepLR,\n",
    "    \"gamma\":0.1**(1/1000),\n",
    "    \"auto_step\":False,\n",
    "    \"step_size\" : 1\n",
    "}\n",
    "Optimizer_params = {\n",
    "    \"optimizer\":optim.AdamW,\n",
    "    \"optimizer_args\":{\"lr\" : 1e-3, \"amsgrad\" : True},\n",
    "    \"clipper\":torch.nn.utils.clip_grad_value_,\n",
    "    \"clipper_params\":{\"clip_value\" : 100},\n",
    "    \"scheduler_params\":Scheduler_params,\n",
    "}\n",
    "\n",
    "network_params = {\n",
    "    \"arch_params\" : network_params,  \n",
    "    \"task\" :\"reg\",\n",
    "    \"optimizer_params\" : Optimizer_params\n",
    "}\n",
    "\n",
    "net = Network(**network_params)\n",
    "print(net)\n",
    "print(\"----------\")\n",
    "X,y = data.train_data()\n",
    "print(X.shape)\n",
    "\n",
    "print(f\"out shpae : {net(X).shape}\")"
   ]
  },
  {
   "cell_type": "code",
   "execution_count": 9,
   "id": "47c714f1-8939-4936-9e50-c45f5f3da31f",
   "metadata": {},
   "outputs": [],
   "source": [
    "model_params = {\n",
    "    \"network_params\" : network_params,\n",
    "    \"device\" : device,\n",
    "    \"criterion\" : nn.CrossEntropyLoss()\n",
    "}\n",
    "\n",
    "\n",
    "model = Model(**model_params)\n",
    "#net = Network(**network_params)\n",
    "#print(net)\n",
    "#print(\"----------\")\n",
    "#print(f\"out shpae : {net(data.train_data()).shape}\")\n",
    "\n",
    "#model = B_Vae.load(\"checkpoint/b_vae.pt\")"
   ]
  },
  {
   "cell_type": "code",
   "execution_count": 10,
   "id": "d62acaf9-b63f-4e9d-89f0-d1fdcf58c64d",
   "metadata": {},
   "outputs": [],
   "source": [
    "lf = LearnFrame(model, data)"
   ]
  },
  {
   "cell_type": "code",
   "execution_count": 15,
   "id": "615c5354-cf62-43ba-9ce2-93b32b67c5bd",
   "metadata": {},
   "outputs": [],
   "source": [
    "lf.metric.plot_lr = True"
   ]
  },
  {
   "cell_type": "code",
   "execution_count": 16,
   "id": "c3808ad3-7992-42df-807a-22e6040a89b5",
   "metadata": {},
   "outputs": [
    {
     "ename": "ValueError",
     "evalue": "setting an array element with a sequence. The requested array has an inhomogeneous shape after 1 dimensions. The detected shape was (2,) + inhomogeneous part.",
     "output_type": "error",
     "traceback": [
      "\u001b[0;31m---------------------------------------------------------------------------\u001b[0m",
      "\u001b[0;31mValueError\u001b[0m                                Traceback (most recent call last)",
      "Cell \u001b[0;32mIn[16], line 8\u001b[0m\n\u001b[1;32m      6\u001b[0m         \u001b[38;5;28;01mpass\u001b[39;00m\n\u001b[1;32m      7\u001b[0m     \u001b[38;5;28;01mif\u001b[39;00m i \u001b[38;5;241m%\u001b[39m \u001b[38;5;241m5\u001b[39m \u001b[38;5;241m==\u001b[39m\u001b[38;5;241m0\u001b[39m:\n\u001b[0;32m----> 8\u001b[0m         lf\u001b[38;5;241m.\u001b[39mmetric\u001b[38;5;241m.\u001b[39mplot(log\u001b[38;5;241m=\u001b[39m\u001b[38;5;28;01mTrue\u001b[39;00m,show_result\u001b[38;5;241m=\u001b[39m \u001b[38;5;28;01mFalse\u001b[39;00m)\n\u001b[1;32m     10\u001b[0m lf\u001b[38;5;241m.\u001b[39mmetric\u001b[38;5;241m.\u001b[39mplot(log\u001b[38;5;241m=\u001b[39m\u001b[38;5;28;01mTrue\u001b[39;00m,show_result\u001b[38;5;241m=\u001b[39m \u001b[38;5;28;01mTrue\u001b[39;00m)\n",
      "File \u001b[0;32m~/Desktop/is/git/deeppy/learn_frame.py:67\u001b[0m, in \u001b[0;36mMetric.plot\u001b[0;34m(self, log, show_result, save)\u001b[0m\n\u001b[1;32m     65\u001b[0m     data \u001b[38;5;241m+\u001b[39m\u001b[38;5;241m=\u001b[39m \u001b[38;5;28mself\u001b[39m\u001b[38;5;241m.\u001b[39mlrs\n\u001b[1;32m     66\u001b[0m     labels \u001b[38;5;241m+\u001b[39m\u001b[38;5;241m=\u001b[39m [[\u001b[38;5;124m\"\u001b[39m\u001b[38;5;124mLearning Rate\u001b[39m\u001b[38;5;124m\"\u001b[39m]]\n\u001b[0;32m---> 67\u001b[0m \u001b[38;5;28mself\u001b[39m\u001b[38;5;241m.\u001b[39mplot_data(data,labels,log\u001b[38;5;241m=\u001b[39mlog,show_result\u001b[38;5;241m=\u001b[39mshow_result,save\u001b[38;5;241m=\u001b[39msave)\n",
      "File \u001b[0;32m~/Desktop/is/git/deeppy/learn_frame.py:99\u001b[0m, in \u001b[0;36mMetric.plot_data\u001b[0;34m(self, datas, labels, log, show_result, save)\u001b[0m\n\u001b[1;32m     95\u001b[0m plt\u001b[38;5;241m.\u001b[39mxlabel(\u001b[38;5;124m'\u001b[39m\u001b[38;5;124mEpisode\u001b[39m\u001b[38;5;124m'\u001b[39m)\n\u001b[1;32m     98\u001b[0m \u001b[38;5;28;01mfor\u001b[39;00m data,label,ax \u001b[38;5;129;01min\u001b[39;00m \u001b[38;5;28mzip\u001b[39m(datas,labels,axes):\n\u001b[0;32m---> 99\u001b[0m     \u001b[38;5;28mself\u001b[39m\u001b[38;5;241m.\u001b[39mplot_ax(ax,data,label, log \u001b[38;5;241m=\u001b[39m log)\n\u001b[1;32m    101\u001b[0m \u001b[38;5;28;01mif\u001b[39;00m save \u001b[38;5;129;01mis\u001b[39;00m \u001b[38;5;129;01mnot\u001b[39;00m \u001b[38;5;28;01mNone\u001b[39;00m:\n\u001b[1;32m    102\u001b[0m     plt\u001b[38;5;241m.\u001b[39msavefig(save)\n",
      "File \u001b[0;32m~/Desktop/is/git/deeppy/learn_frame.py:77\u001b[0m, in \u001b[0;36mMetric.plot_ax\u001b[0;34m(self, ax, data, label, log)\u001b[0m\n\u001b[1;32m     74\u001b[0m ax\u001b[38;5;241m.\u001b[39mgrid(\u001b[38;5;28;01mTrue\u001b[39;00m)\n\u001b[1;32m     76\u001b[0m \u001b[38;5;28;01mif\u001b[39;00m log:\n\u001b[0;32m---> 77\u001b[0m     data \u001b[38;5;241m=\u001b[39m np\u001b[38;5;241m.\u001b[39mlog10(data)\n\u001b[1;32m     80\u001b[0m \u001b[38;5;28;01mif\u001b[39;00m \u001b[38;5;28misinstance\u001b[39m(label,\u001b[38;5;28mstr\u001b[39m):\n\u001b[1;32m     81\u001b[0m     data \u001b[38;5;241m=\u001b[39m [data]\n",
      "\u001b[0;31mValueError\u001b[0m: setting an array element with a sequence. The requested array has an inhomogeneous shape after 1 dimensions. The detected shape was (2,) + inhomogeneous part."
     ]
    },
    {
     "data": {
      "image/png": "[encoded data removed]",
      "text/plain": [
       "<Figure size 1000x1200 with 2 Axes>"
      ]
     },
     "metadata": {},
     "output_type": "display_data"
    }
   ],
   "source": [
    "for i in range(100):\n",
    "    lf.optimize()\n",
    "    lf.test()\n",
    "    if i > 1000:\n",
    "        lf.scheduler_step()\n",
    "        pass\n",
    "    if i % 5 ==0:\n",
    "        lf.metric.plot(log=True,show_result= False)\n",
    "\n",
    "lf.metric.plot(log=True,show_result= True)"
   ]
  },
  {
   "cell_type": "code",
   "execution_count": 39,
   "id": "eadb0860-d426-4eb4-b104-bf64a8cf2a54",
   "metadata": {},
   "outputs": [
    {
     "name": "stderr",
     "output_type": "stream",
     "text": [
      "/tmp/ipykernel_36126/3585804264.py:4: UserWarning: Implicit dimension choice for softmax has been deprecated. Change the call to include dim=X as an argument.\n",
      "  pred = nn.functional.softmax(lf.model.predict(im)[0]).argmax().item()\n"
     ]
    },
    {
     "data": {
      "image/png": "[encoded data removed]",
      "text/plain": [
       "<Figure size 640x480 with 1 Axes>"
      ]
     },
     "metadata": {},
     "output_type": "display_data"
    }
   ],
   "source": [
    "im, l = data.train_data()\n",
    "\n",
    "with torch.no_grad():\n",
    "    pred = nn.functional.softmax(lf.model.predict(im)[0]).argmax().item()\n",
    "\n",
    "plt.imshow(im[0,0])\n",
    "plt.title(f\"Target : {l[0]} - Prediction : {pred}\")\n",
    "plt.show()\n",
    "\n"
   ]
  }
 ],
 "metadata": {
  "kernelspec": {
   "display_name": "Python 3 (ipykernel)",
   "language": "python",
   "name": "python3"
  },
  "language_info": {
   "codemirror_mode": {
    "name": "ipython",
    "version": 3
   },
   "file_extension": ".py",
   "mimetype": "text/x-python",
   "name": "python",
   "nbconvert_exporter": "python",
   "pygments_lexer": "ipython3",
   "version": "3.13.2"
  }
 },
 "nbformat": 4,
 "nbformat_minor": 5
}
