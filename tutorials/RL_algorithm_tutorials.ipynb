{
 "cells": [
  {
   "cell_type": "markdown",
   "id": "b274ce9a-924e-41d3-9d1c-843bc23e252e",
   "metadata": {},
   "source": [
    "# RL Algorithms Tutorial"
   ]
  },
  {
   "cell_type": "code",
   "execution_count": 1,
   "id": "aae8877f-bedf-474d-9be8-04531d813039",
   "metadata": {},
   "outputs": [],
   "source": [
    "import sys\n",
    "import os\n",
    "import time\n",
    "# Add the path to the parent module\n",
    "sys.path.append(os.path.abspath('../..'))"
   ]
  },
  {
   "cell_type": "code",
   "execution_count": 2,
   "id": "646ef44f-8c72-43fc-9d36-908863dad0fb",
   "metadata": {},
   "outputs": [],
   "source": [
    "import gymnasium as gym\n",
    "\n",
    "import torch\n",
    "import torch.nn as nn\n",
    "import torch.optim as optim\n",
    "\n",
    "from IPython.display import HTML, Markdown\n",
    "\n",
    "import deeppy as dp\n",
    "from deeppy import LearnFrame\n",
    "from deeppy.models.rl import *\n",
    "from deeppy.data import EnvData\n",
    "\n",
    "from deeppy.tutorials.assets.tutorial_utils import RLIntroduction\n",
    "device = torch.device(\"cuda\" if torch.cuda.is_available() else \"cpu\")\n",
    "\n"
   ]
  },
  {
   "cell_type": "code",
   "execution_count": 3,
   "id": "9f234637-ed7f-45a2-9ebe-0939f0f845e6",
   "metadata": {},
   "outputs": [
    {
     "name": "stdout",
     "output_type": "stream",
     "text": [
      "Selected algorithm SAC\n",
      "Checkpoint environment : LunarLander-v3\n",
      "Checkpoint Buffer size  100000\n"
     ]
    }
   ],
   "source": [
    "Intro = RLIntroduction(tut=2)\n",
    "clss, env_name, buf_size, model_params, file_name, env = Intro()\n"
   ]
  },
  {
   "cell_type": "markdown",
   "id": "3beb2dde-ea50-4644-ab3a-8d31cecd0571",
   "metadata": {},
   "source": [
    "## Data"
   ]
  },
  {
   "cell_type": "code",
   "execution_count": 4,
   "id": "8ad80ac1-fb89-4f60-811d-596bc1a8b696",
   "metadata": {},
   "outputs": [],
   "source": [
    "data = EnvData(env = env, buffer_size = int(buf_size), batch_size = 128, start_size = 128)"
   ]
  },
  {
   "cell_type": "markdown",
   "id": "7d74855f-e926-495a-8a5e-ce363383d90e",
   "metadata": {},
   "source": [
    "# Create With Default Parameters"
   ]
  },
  {
   "cell_type": "markdown",
   "id": "c1c8193d-324a-4498-ba9e-e0a252da746b",
   "metadata": {},
   "source": [
    "## Model\n"
   ]
  },
  {
   "cell_type": "code",
   "execution_count": 5,
   "id": "41fa9d4b-9613-4c39-9ea3-e258b850449a",
   "metadata": {},
   "outputs": [],
   "source": [
    "model = clss(**model_params)\n",
    "lf = LearnFrame(model,data)"
   ]
  },
  {
   "cell_type": "markdown",
   "id": "f8dcb789-2211-4967-b817-7b902ac6bae4",
   "metadata": {
    "jp-MarkdownHeadingCollapsed": true
   },
   "source": [
    "#### Or Load Checkpoint"
   ]
  },
  {
   "cell_type": "code",
   "execution_count": 6,
   "id": "87c253a7-c4d1-4cab-b607-a3c65899b2d5",
   "metadata": {},
   "outputs": [],
   "source": [
    "lf = LearnFrame(model = clss, data = data)\n",
    "lf.load(file_name = file_name, load_data = False)"
   ]
  },
  {
   "cell_type": "markdown",
   "id": "bc057a9a-8319-4f63-858d-9f915fab9727",
   "metadata": {
    "jp-MarkdownHeadingCollapsed": true
   },
   "source": [
    "# Custom"
   ]
  },
  {
   "cell_type": "markdown",
   "id": "83e0ecd5-0657-4318-8259-56a7f4ed6da9",
   "metadata": {
    "jp-MarkdownHeadingCollapsed": true
   },
   "source": [
    "## Data"
   ]
  },
  {
   "cell_type": "code",
   "execution_count": 4,
   "id": "455d978d-f8a3-44a0-a1a5-52e4b1dcb789",
   "metadata": {},
   "outputs": [
    {
     "name": "stdout",
     "output_type": "stream",
     "text": [
      "EnvData_params = {\n",
      "    \"env\",\n",
      "    \"buffer_size\":20000,\n",
      "    \"batch_size\":128,\n",
      "    \"start_size\":128,\n",
      "}\n",
      "obs shape : 4 | act shape : 1\n"
     ]
    }
   ],
   "source": [
    "EnvData.print_args()\n",
    "#Create gym environment\n",
    "env = gym.make(\"InvertedPendulum-v5\", render_mode=\"rgb_array\")\n",
    "\n",
    "#Get observation and action dimentions\n",
    "obs, act = env.observation_space.shape[-1], env.action_space.shape\n",
    "#Create our data object\n",
    "data = EnvData(env = env, buffer_size = 10000, batch_size = 128, start_size = 128)\n",
    "\n",
    "print(f\"obs shape : {obs} | act shape : {act[-1]}\")"
   ]
  },
  {
   "cell_type": "markdown",
   "id": "4fa36ccc-8259-45b1-83f6-cc97879b6e86",
   "metadata": {},
   "source": [
    "## Model"
   ]
  },
  {
   "cell_type": "code",
   "execution_count": 8,
   "id": "90e1fc0d-ea11-4d8c-9a11-d4b8bd6d04d6",
   "metadata": {},
   "outputs": [
    {
     "name": "stdout",
     "output_type": "stream",
     "text": [
      "        arch_params = {\n",
      "            \"layers\":[],\n",
      "            \"blocks\":[],\n",
      "            \"block_args\":[],\n",
      "            \"out_act\":<class 'torch.nn.modules.activation.ReLU'>,\n",
      "            \"out_params\":{},\n",
      "            \"weight_init\":None,\n",
      "        }\n",
      "            Scheduler_params = {\n",
      "                \"scheduler\",\n",
      "                \"auto_step\":True,\n",
      "                \"**kwargs\",\n",
      "            }\n",
      "        Optimizer_params = {\n",
      "            \"optimizer\":<class 'torch.optim.adamw.AdamW'>,\n",
      "            \"optimizer_args\":{},\n",
      "            \"clipper\":None,\n",
      "            \"clipper_params\":{},\n",
      "            \"scheduler_params\":None,\n",
      "        }\n",
      "    Network_params = {\n",
      "        \"arch_params\",\n",
      "        \"decoder_params\":None,\n",
      "        \"task\":'reg',\n",
      "        \"optimizer_params\":{},\n",
      "    }\n",
      "            arch_params = {\n",
      "                \"layers\":[],\n",
      "                \"blocks\":[],\n",
      "                \"block_args\":[],\n",
      "                \"out_act\":<class 'torch.nn.modules.activation.ReLU'>,\n",
      "                \"out_params\":{},\n",
      "                \"weight_init\":None,\n",
      "            }\n",
      "                Scheduler_params = {\n",
      "                    \"scheduler\",\n",
      "                    \"auto_step\":True,\n",
      "                    \"**kwargs\",\n",
      "                }\n",
      "            Optimizer_params = {\n",
      "                \"optimizer\":<class 'torch.optim.adamw.AdamW'>,\n",
      "                \"optimizer_args\":{},\n",
      "                \"clipper\":None,\n",
      "                \"clipper_params\":{},\n",
      "                \"scheduler_params\":None,\n",
      "            }\n",
      "        Network_params = {\n",
      "            \"arch_params\",\n",
      "            \"decoder_params\":None,\n",
      "            \"task\":'reg',\n",
      "            \"optimizer_params\":{},\n",
      "        }\n",
      "        Epsilon_params = {\n",
      "            \"eps\":0.9,\n",
      "            \"eps_end\":0.05,\n",
      "            \"eps_decay\":1000,\n",
      "            \"random_generator\":None,\n",
      "        }\n",
      "    DDQN_params = {\n",
      "        \"network_params\",\n",
      "        \"gamma\":0.99,\n",
      "        \"tau\":0.005,\n",
      "        \"eps_params\":{'eps': None},\n",
      "    }\n",
      "SAC_params = {\n",
      "    \"ddqn_params\",\n",
      "    \"pnet_params\",\n",
      "    \"alpha_lr\",\n",
      "    \"gamma\":0.99,\n",
      "    \"target_entropy\":-1.0,\n",
      "    \"device\":None,\n",
      "    \"criterion\":MSELoss(),\n",
      "    \"mode\":'discrete',\n",
      "    \"continuous_action\":<built-in method tanh of type object at 0x727da019df60>,\n",
      "}\n"
     ]
    }
   ],
   "source": [
    "clss.print_args()"
   ]
  },
  {
   "cell_type": "code",
   "execution_count": null,
   "id": "e602dbec-c1ec-4b76-8e40-2341275456fe",
   "metadata": {},
   "outputs": [],
   "source": [
    "\n",
    "\n",
    "        arch_params = {\n",
    "            \"layers\":[],\n",
    "            \"blocks\":[],\n",
    "            \"block_args\":[],\n",
    "            \"out_act\":<class 'torch.nn.modules.activation.ReLU'>,\n",
    "            \"out_params\":{},\n",
    "            \"weight_init\":None,\n",
    "        }\n",
    "            Scheduler_params = {\n",
    "                \"scheduler\",\n",
    "                \"auto_step\":True,\n",
    "                \"**kwargs\",\n",
    "            }\n",
    "        Optimizer_params = {\n",
    "            \"optimizer\":<class 'torch.optim.adamw.AdamW'>,\n",
    "            \"optimizer_args\":{},\n",
    "            \"clipper\":None,\n",
    "            \"clipper_params\":{},\n",
    "            \"scheduler_params\":None,\n",
    "        }\n",
    "    Network_params = {\n",
    "        \"arch_params\",\n",
    "        \"decoder_params\":None,\n",
    "        \"task\":'reg',\n",
    "        \"optimizer_params\":{},\n",
    "    }\n",
    "            arch_params = {\n",
    "                \"layers\":[],\n",
    "                \"blocks\":[],\n",
    "                \"block_args\":[],\n",
    "                \"out_act\":<class 'torch.nn.modules.activation.ReLU'>,\n",
    "                \"out_params\":{},\n",
    "                \"weight_init\":None,\n",
    "            }\n",
    "                Scheduler_params = {\n",
    "                    \"scheduler\",\n",
    "                    \"auto_step\":True,\n",
    "                    \"**kwargs\",\n",
    "                }\n",
    "            Optimizer_params = {\n",
    "                \"optimizer\":<class 'torch.optim.adamw.AdamW'>,\n",
    "                \"optimizer_args\":{},\n",
    "                \"clipper\":None,\n",
    "                \"clipper_params\":{},\n",
    "                \"scheduler_params\":None,\n",
    "            }\n",
    "        Network_params = {\n",
    "            \"arch_params\",\n",
    "            \"decoder_params\":None,\n",
    "            \"task\":'reg',\n",
    "            \"optimizer_params\":{},\n",
    "        }\n",
    "        Epsilon_params = {\n",
    "            \"eps\":0.9,\n",
    "            \"eps_end\":0.05,\n",
    "            \"eps_decay\":1000,\n",
    "            \"random_generator\":None,\n",
    "        }\n",
    "    DDQN_params = {\n",
    "        \"network_params\",\n",
    "        \"gamma\":0.99,\n",
    "        \"tau\":0.005,\n",
    "        \"eps_params\":{'eps': None},\n",
    "    }\n",
    "SAC_params = {\n",
    "    \"ddqn_params\",\n",
    "    \"pnet_params\",\n",
    "    \"alpha_lr\":lr,\n",
    "    \"gamma\":0.99,\n",
    "    \"target_entropy\":-1.0,\n",
    "    \"device\":device,\n",
    "    \"criterion\":nn.MSELoss(),\n",
    "    \"mode\":'continious',\n",
    "    \"continuous_action\":<built-in method tanh of type object at 0x727da019df60>,\n",
    "}\n"
   ]
  },
  {
   "cell_type": "code",
   "execution_count": null,
   "id": "7b6f6b3f-199b-4ea6-a452-e3cfed31aec1",
   "metadata": {},
   "outputs": [],
   "source": [
    "model = clss(**model_params)\n",
    "lf = LearnFrame(model,data)"
   ]
  },
  {
   "cell_type": "markdown",
   "id": "b56fe00c-458f-40ec-9fe0-0df9fbaa72d9",
   "metadata": {},
   "source": [
    "# Train"
   ]
  },
  {
   "cell_type": "code",
   "execution_count": null,
   "id": "d6a57145-a8af-45a1-bc36-a28bcadff1c2",
   "metadata": {},
   "outputs": [
    {
     "name": "stderr",
     "output_type": "stream",
     "text": [
      "/home/boz/anaconda3/envs/deeppy/lib/python3.13/site-packages/torch/optim/lr_scheduler.py:227: UserWarning: Detected call of `lr_scheduler.step()` before `optimizer.step()`. In PyTorch 1.1.0 and later, you should call them in the opposite order: `optimizer.step()` before `lr_scheduler.step()`.  Failure to do this will result in PyTorch skipping the first value of the learning rate schedule. See more details at https://pytorch.org/docs/stable/optim.html#how-to-adjust-learning-rate\n",
      "  warnings.warn(\n"
     ]
    },
    {
     "data": {
      "image/png": "[encoded data removed]",
      "text/plain": [
       "<Figure size 1000x1200 with 2 Axes>"
      ]
     },
     "metadata": {},
     "output_type": "display_data"
    },
    {
     "data": {
      "text/plain": [
       "<Figure size 640x480 with 0 Axes>"
      ]
     },
     "metadata": {},
     "output_type": "display_data"
    }
   ],
   "source": [
    "epoch = 500\n",
    "\n",
    "\n",
    "for i in range(epoch):\n",
    "    done = False\n",
    "    while not done:\n",
    "        done = lf.collect()\n",
    "        r=lf.optimize()\n",
    "    if r is not None:\n",
    "        pass\n",
    "        lf.model.scheduler_step()\n",
    "    if i % 10 == 0 and r is not None :\n",
    "        lf.plot([lf.reward_data,lf.duration_data], labels = [\"rewards\",\"durations\"], show_result= False)\n",
    "\n",
    "        \n",
    "lf.plot([lf.reward_data,lf.duration_data], labels = [\"rewards\",\"durations\"], show_result= True)"
   ]
  },
  {
   "cell_type": "code",
   "execution_count": 15,
   "id": "6fbfae55-56e7-426b-9ecf-20864dc6b8ea",
   "metadata": {},
   "outputs": [],
   "source": [
    "model = clss(**model_params)\n",
    "lf = LearnFrame(model,data)"
   ]
  },
  {
   "cell_type": "code",
   "execution_count": 16,
   "id": "dc179420-76c6-4417-9de1-4776c4b88501",
   "metadata": {},
   "outputs": [],
   "source": [
    "lf.save(file_name = file_name)"
   ]
  },
  {
   "cell_type": "code",
   "execution_count": 13,
   "id": "27a25be5-b27b-4663-91e8-2eaa1088ccd8",
   "metadata": {},
   "outputs": [
    {
     "ename": "FatalError",
     "evalue": "gladLoadGL error",
     "output_type": "error",
     "traceback": [
      "\u001b[0;31m---------------------------------------------------------------------------\u001b[0m",
      "\u001b[0;31mFatalError\u001b[0m                                Traceback (most recent call last)",
      "Cell \u001b[0;32mIn[13], line 1\u001b[0m\n\u001b[0;32m----> 1\u001b[0m anim \u001b[38;5;241m=\u001b[39m lf\u001b[38;5;241m.\u001b[39mget_anim(interval \u001b[38;5;241m=\u001b[39m \u001b[38;5;241m1000\u001b[39m\u001b[38;5;241m/\u001b[39m\u001b[38;5;241m30\u001b[39m)\n\u001b[1;32m      2\u001b[0m HTML(anim\u001b[38;5;241m.\u001b[39mto_jshtml())\n",
      "File \u001b[0;32m~/Desktop/is/git/deeppy/learn_frame.py:138\u001b[0m, in \u001b[0;36mLearnFrame.get_anim\u001b[0;34m(self, name, interval)\u001b[0m\n\u001b[1;32m    135\u001b[0m frames \u001b[38;5;241m=\u001b[39m []\n\u001b[1;32m    136\u001b[0m \u001b[38;5;28mself\u001b[39m\u001b[38;5;241m.\u001b[39mdata\u001b[38;5;241m.\u001b[39mreset()\n\u001b[0;32m--> 138\u001b[0m frames\u001b[38;5;241m.\u001b[39mappend(\u001b[38;5;28mself\u001b[39m\u001b[38;5;241m.\u001b[39mdata\u001b[38;5;241m.\u001b[39menv\u001b[38;5;241m.\u001b[39mrender())\n\u001b[1;32m    139\u001b[0m done \u001b[38;5;241m=\u001b[39m \u001b[38;5;28;01mFalse\u001b[39;00m\n\u001b[1;32m    140\u001b[0m \u001b[38;5;28;01mwhile\u001b[39;00m(\u001b[38;5;129;01mnot\u001b[39;00m done):\n",
      "File \u001b[0;32m~/anaconda3/envs/deeppy/lib/python3.13/site-packages/gymnasium/core.py:337\u001b[0m, in \u001b[0;36mWrapper.render\u001b[0;34m(self)\u001b[0m\n\u001b[1;32m    335\u001b[0m \u001b[38;5;28;01mdef\u001b[39;00m \u001b[38;5;21mrender\u001b[39m(\u001b[38;5;28mself\u001b[39m) \u001b[38;5;241m-\u001b[39m\u001b[38;5;241m>\u001b[39m RenderFrame \u001b[38;5;241m|\u001b[39m \u001b[38;5;28mlist\u001b[39m[RenderFrame] \u001b[38;5;241m|\u001b[39m \u001b[38;5;28;01mNone\u001b[39;00m:\n\u001b[1;32m    336\u001b[0m \u001b[38;5;250m    \u001b[39m\u001b[38;5;124;03m\"\"\"Uses the :meth:`render` of the :attr:`env` that can be overwritten to change the returned data.\"\"\"\u001b[39;00m\n\u001b[0;32m--> 337\u001b[0m     \u001b[38;5;28;01mreturn\u001b[39;00m \u001b[38;5;28mself\u001b[39m\u001b[38;5;241m.\u001b[39menv\u001b[38;5;241m.\u001b[39mrender()\n",
      "File \u001b[0;32m~/anaconda3/envs/deeppy/lib/python3.13/site-packages/gymnasium/core.py:337\u001b[0m, in \u001b[0;36mWrapper.render\u001b[0;34m(self)\u001b[0m\n\u001b[1;32m    335\u001b[0m \u001b[38;5;28;01mdef\u001b[39;00m \u001b[38;5;21mrender\u001b[39m(\u001b[38;5;28mself\u001b[39m) \u001b[38;5;241m-\u001b[39m\u001b[38;5;241m>\u001b[39m RenderFrame \u001b[38;5;241m|\u001b[39m \u001b[38;5;28mlist\u001b[39m[RenderFrame] \u001b[38;5;241m|\u001b[39m \u001b[38;5;28;01mNone\u001b[39;00m:\n\u001b[1;32m    336\u001b[0m \u001b[38;5;250m    \u001b[39m\u001b[38;5;124;03m\"\"\"Uses the :meth:`render` of the :attr:`env` that can be overwritten to change the returned data.\"\"\"\u001b[39;00m\n\u001b[0;32m--> 337\u001b[0m     \u001b[38;5;28;01mreturn\u001b[39;00m \u001b[38;5;28mself\u001b[39m\u001b[38;5;241m.\u001b[39menv\u001b[38;5;241m.\u001b[39mrender()\n",
      "File \u001b[0;32m~/anaconda3/envs/deeppy/lib/python3.13/site-packages/gymnasium/wrappers/common.py:409\u001b[0m, in \u001b[0;36mOrderEnforcing.render\u001b[0;34m(self)\u001b[0m\n\u001b[1;32m    404\u001b[0m \u001b[38;5;28;01mif\u001b[39;00m \u001b[38;5;129;01mnot\u001b[39;00m \u001b[38;5;28mself\u001b[39m\u001b[38;5;241m.\u001b[39m_disable_render_order_enforcing \u001b[38;5;129;01mand\u001b[39;00m \u001b[38;5;129;01mnot\u001b[39;00m \u001b[38;5;28mself\u001b[39m\u001b[38;5;241m.\u001b[39m_has_reset:\n\u001b[1;32m    405\u001b[0m     \u001b[38;5;28;01mraise\u001b[39;00m ResetNeeded(\n\u001b[1;32m    406\u001b[0m         \u001b[38;5;124m\"\u001b[39m\u001b[38;5;124mCannot call `env.render()` before calling `env.reset()`, if this is an intended action, \u001b[39m\u001b[38;5;124m\"\u001b[39m\n\u001b[1;32m    407\u001b[0m         \u001b[38;5;124m\"\u001b[39m\u001b[38;5;124mset `disable_render_order_enforcing=True` on the OrderEnforcer wrapper.\u001b[39m\u001b[38;5;124m\"\u001b[39m\n\u001b[1;32m    408\u001b[0m     )\n\u001b[0;32m--> 409\u001b[0m \u001b[38;5;28;01mreturn\u001b[39;00m \u001b[38;5;28msuper\u001b[39m()\u001b[38;5;241m.\u001b[39mrender()\n",
      "File \u001b[0;32m~/anaconda3/envs/deeppy/lib/python3.13/site-packages/gymnasium/core.py:337\u001b[0m, in \u001b[0;36mWrapper.render\u001b[0;34m(self)\u001b[0m\n\u001b[1;32m    335\u001b[0m \u001b[38;5;28;01mdef\u001b[39;00m \u001b[38;5;21mrender\u001b[39m(\u001b[38;5;28mself\u001b[39m) \u001b[38;5;241m-\u001b[39m\u001b[38;5;241m>\u001b[39m RenderFrame \u001b[38;5;241m|\u001b[39m \u001b[38;5;28mlist\u001b[39m[RenderFrame] \u001b[38;5;241m|\u001b[39m \u001b[38;5;28;01mNone\u001b[39;00m:\n\u001b[1;32m    336\u001b[0m \u001b[38;5;250m    \u001b[39m\u001b[38;5;124;03m\"\"\"Uses the :meth:`render` of the :attr:`env` that can be overwritten to change the returned data.\"\"\"\u001b[39;00m\n\u001b[0;32m--> 337\u001b[0m     \u001b[38;5;28;01mreturn\u001b[39;00m \u001b[38;5;28mself\u001b[39m\u001b[38;5;241m.\u001b[39menv\u001b[38;5;241m.\u001b[39mrender()\n",
      "File \u001b[0;32m~/anaconda3/envs/deeppy/lib/python3.13/site-packages/gymnasium/wrappers/common.py:303\u001b[0m, in \u001b[0;36mPassiveEnvChecker.render\u001b[0;34m(self)\u001b[0m\n\u001b[1;32m    301\u001b[0m     \u001b[38;5;28;01mreturn\u001b[39;00m env_render_passive_checker(\u001b[38;5;28mself\u001b[39m\u001b[38;5;241m.\u001b[39menv)\n\u001b[1;32m    302\u001b[0m \u001b[38;5;28;01melse\u001b[39;00m:\n\u001b[0;32m--> 303\u001b[0m     \u001b[38;5;28;01mreturn\u001b[39;00m \u001b[38;5;28mself\u001b[39m\u001b[38;5;241m.\u001b[39menv\u001b[38;5;241m.\u001b[39mrender()\n",
      "File \u001b[0;32m~/anaconda3/envs/deeppy/lib/python3.13/site-packages/gymnasium/envs/mujoco/mujoco_env.py:159\u001b[0m, in \u001b[0;36mMujocoEnv.render\u001b[0;34m(self)\u001b[0m\n\u001b[1;32m    155\u001b[0m \u001b[38;5;28;01mdef\u001b[39;00m \u001b[38;5;21mrender\u001b[39m(\u001b[38;5;28mself\u001b[39m):\n\u001b[1;32m    156\u001b[0m \u001b[38;5;250m    \u001b[39m\u001b[38;5;124;03m\"\"\"\u001b[39;00m\n\u001b[1;32m    157\u001b[0m \u001b[38;5;124;03m    Render a frame from the MuJoCo simulation as specified by the render_mode.\u001b[39;00m\n\u001b[1;32m    158\u001b[0m \u001b[38;5;124;03m    \"\"\"\u001b[39;00m\n\u001b[0;32m--> 159\u001b[0m     \u001b[38;5;28;01mreturn\u001b[39;00m \u001b[38;5;28mself\u001b[39m\u001b[38;5;241m.\u001b[39mmujoco_renderer\u001b[38;5;241m.\u001b[39mrender(\u001b[38;5;28mself\u001b[39m\u001b[38;5;241m.\u001b[39mrender_mode)\n",
      "File \u001b[0;32m~/anaconda3/envs/deeppy/lib/python3.13/site-packages/gymnasium/envs/mujoco/mujoco_rendering.py:731\u001b[0m, in \u001b[0;36mMujocoRenderer.render\u001b[0;34m(self, render_mode)\u001b[0m\n\u001b[1;32m    726\u001b[0m \u001b[38;5;28;01mif\u001b[39;00m render_mode \u001b[38;5;241m!=\u001b[39m \u001b[38;5;124m\"\u001b[39m\u001b[38;5;124mhuman\u001b[39m\u001b[38;5;124m\"\u001b[39m:\n\u001b[1;32m    727\u001b[0m     \u001b[38;5;28;01massert\u001b[39;00m (\n\u001b[1;32m    728\u001b[0m         \u001b[38;5;28mself\u001b[39m\u001b[38;5;241m.\u001b[39mwidth \u001b[38;5;129;01mis\u001b[39;00m \u001b[38;5;129;01mnot\u001b[39;00m \u001b[38;5;28;01mNone\u001b[39;00m \u001b[38;5;129;01mand\u001b[39;00m \u001b[38;5;28mself\u001b[39m\u001b[38;5;241m.\u001b[39mheight \u001b[38;5;129;01mis\u001b[39;00m \u001b[38;5;129;01mnot\u001b[39;00m \u001b[38;5;28;01mNone\u001b[39;00m\n\u001b[1;32m    729\u001b[0m     ), \u001b[38;5;124mf\u001b[39m\u001b[38;5;124m\"\u001b[39m\u001b[38;5;124mThe width: \u001b[39m\u001b[38;5;132;01m{\u001b[39;00m\u001b[38;5;28mself\u001b[39m\u001b[38;5;241m.\u001b[39mwidth\u001b[38;5;132;01m}\u001b[39;00m\u001b[38;5;124m and height: \u001b[39m\u001b[38;5;132;01m{\u001b[39;00m\u001b[38;5;28mself\u001b[39m\u001b[38;5;241m.\u001b[39mheight\u001b[38;5;132;01m}\u001b[39;00m\u001b[38;5;124m cannot be `None` when the render_mode is not `human`.\u001b[39m\u001b[38;5;124m\"\u001b[39m\n\u001b[0;32m--> 731\u001b[0m viewer \u001b[38;5;241m=\u001b[39m \u001b[38;5;28mself\u001b[39m\u001b[38;5;241m.\u001b[39m_get_viewer(render_mode\u001b[38;5;241m=\u001b[39mrender_mode)\n\u001b[1;32m    733\u001b[0m \u001b[38;5;28;01mif\u001b[39;00m render_mode \u001b[38;5;129;01min\u001b[39;00m [\u001b[38;5;124m\"\u001b[39m\u001b[38;5;124mrgb_array\u001b[39m\u001b[38;5;124m\"\u001b[39m, \u001b[38;5;124m\"\u001b[39m\u001b[38;5;124mdepth_array\u001b[39m\u001b[38;5;124m\"\u001b[39m, \u001b[38;5;124m\"\u001b[39m\u001b[38;5;124mrgbd_tuple\u001b[39m\u001b[38;5;124m\"\u001b[39m]:\n\u001b[1;32m    734\u001b[0m     \u001b[38;5;28;01mreturn\u001b[39;00m viewer\u001b[38;5;241m.\u001b[39mrender(render_mode\u001b[38;5;241m=\u001b[39mrender_mode, camera_id\u001b[38;5;241m=\u001b[39m\u001b[38;5;28mself\u001b[39m\u001b[38;5;241m.\u001b[39mcamera_id)\n",
      "File \u001b[0;32m~/anaconda3/envs/deeppy/lib/python3.13/site-packages/gymnasium/envs/mujoco/mujoco_rendering.py:755\u001b[0m, in \u001b[0;36mMujocoRenderer._get_viewer\u001b[0;34m(self, render_mode)\u001b[0m\n\u001b[1;32m    746\u001b[0m     \u001b[38;5;28mself\u001b[39m\u001b[38;5;241m.\u001b[39mviewer \u001b[38;5;241m=\u001b[39m WindowViewer(\n\u001b[1;32m    747\u001b[0m         \u001b[38;5;28mself\u001b[39m\u001b[38;5;241m.\u001b[39mmodel,\n\u001b[1;32m    748\u001b[0m         \u001b[38;5;28mself\u001b[39m\u001b[38;5;241m.\u001b[39mdata,\n\u001b[0;32m   (...)\u001b[0m\n\u001b[1;32m    752\u001b[0m         \u001b[38;5;28mself\u001b[39m\u001b[38;5;241m.\u001b[39m_vopt,\n\u001b[1;32m    753\u001b[0m     )\n\u001b[1;32m    754\u001b[0m \u001b[38;5;28;01melif\u001b[39;00m render_mode \u001b[38;5;129;01min\u001b[39;00m {\u001b[38;5;124m\"\u001b[39m\u001b[38;5;124mrgb_array\u001b[39m\u001b[38;5;124m\"\u001b[39m, \u001b[38;5;124m\"\u001b[39m\u001b[38;5;124mdepth_array\u001b[39m\u001b[38;5;124m\"\u001b[39m, \u001b[38;5;124m\"\u001b[39m\u001b[38;5;124mrgbd_tuple\u001b[39m\u001b[38;5;124m\"\u001b[39m}:\n\u001b[0;32m--> 755\u001b[0m     \u001b[38;5;28mself\u001b[39m\u001b[38;5;241m.\u001b[39mviewer \u001b[38;5;241m=\u001b[39m OffScreenViewer(\n\u001b[1;32m    756\u001b[0m         \u001b[38;5;28mself\u001b[39m\u001b[38;5;241m.\u001b[39mmodel,\n\u001b[1;32m    757\u001b[0m         \u001b[38;5;28mself\u001b[39m\u001b[38;5;241m.\u001b[39mdata,\n\u001b[1;32m    758\u001b[0m         \u001b[38;5;28mself\u001b[39m\u001b[38;5;241m.\u001b[39mwidth,\n\u001b[1;32m    759\u001b[0m         \u001b[38;5;28mself\u001b[39m\u001b[38;5;241m.\u001b[39mheight,\n\u001b[1;32m    760\u001b[0m         \u001b[38;5;28mself\u001b[39m\u001b[38;5;241m.\u001b[39mmax_geom,\n\u001b[1;32m    761\u001b[0m         \u001b[38;5;28mself\u001b[39m\u001b[38;5;241m.\u001b[39m_vopt,\n\u001b[1;32m    762\u001b[0m     )\n\u001b[1;32m    763\u001b[0m \u001b[38;5;28;01melse\u001b[39;00m:\n\u001b[1;32m    764\u001b[0m     \u001b[38;5;28;01mraise\u001b[39;00m \u001b[38;5;167;01mAttributeError\u001b[39;00m(\n\u001b[1;32m    765\u001b[0m         \u001b[38;5;124mf\u001b[39m\u001b[38;5;124m\"\u001b[39m\u001b[38;5;124mUnexpected mode: \u001b[39m\u001b[38;5;132;01m{\u001b[39;00mrender_mode\u001b[38;5;132;01m}\u001b[39;00m\u001b[38;5;124m, expected modes: human, rgb_array, depth_array, or rgbd_tuple\u001b[39m\u001b[38;5;124m\"\u001b[39m\n\u001b[1;32m    766\u001b[0m     )\n",
      "File \u001b[0;32m~/anaconda3/envs/deeppy/lib/python3.13/site-packages/gymnasium/envs/mujoco/mujoco_rendering.py:157\u001b[0m, in \u001b[0;36mOffScreenViewer.__init__\u001b[0;34m(self, model, data, width, height, max_geom, visual_options)\u001b[0m\n\u001b[1;32m    145\u001b[0m \u001b[38;5;28;01mdef\u001b[39;00m \u001b[38;5;21m__init__\u001b[39m(\n\u001b[1;32m    146\u001b[0m     \u001b[38;5;28mself\u001b[39m,\n\u001b[1;32m    147\u001b[0m     model: \u001b[38;5;124m\"\u001b[39m\u001b[38;5;124mmujoco.MjMujoco\u001b[39m\u001b[38;5;124m\"\u001b[39m,\n\u001b[0;32m   (...)\u001b[0m\n\u001b[1;32m    153\u001b[0m ):\n\u001b[1;32m    154\u001b[0m     \u001b[38;5;66;03m# We must make GLContext before MjrContext\u001b[39;00m\n\u001b[1;32m    155\u001b[0m     \u001b[38;5;28mself\u001b[39m\u001b[38;5;241m.\u001b[39m_get_opengl_backend(width, height)\n\u001b[0;32m--> 157\u001b[0m     \u001b[38;5;28msuper\u001b[39m()\u001b[38;5;241m.\u001b[39m\u001b[38;5;21m__init__\u001b[39m(model, data, width, height, max_geom, visual_options)\n\u001b[1;32m    159\u001b[0m     \u001b[38;5;28mself\u001b[39m\u001b[38;5;241m.\u001b[39m_init_camera()\n",
      "File \u001b[0;32m~/anaconda3/envs/deeppy/lib/python3.13/site-packages/gymnasium/envs/mujoco/mujoco_rendering.py:69\u001b[0m, in \u001b[0;36mBaseRender.__init__\u001b[0;34m(self, model, data, width, height, max_geom, visual_options)\u001b[0m\n\u001b[1;32m     66\u001b[0m \u001b[38;5;28mself\u001b[39m\u001b[38;5;241m.\u001b[39mmake_context_current()\n\u001b[1;32m     68\u001b[0m \u001b[38;5;66;03m# Keep in Mujoco Context\u001b[39;00m\n\u001b[0;32m---> 69\u001b[0m \u001b[38;5;28mself\u001b[39m\u001b[38;5;241m.\u001b[39mcon \u001b[38;5;241m=\u001b[39m mujoco\u001b[38;5;241m.\u001b[39mMjrContext(\u001b[38;5;28mself\u001b[39m\u001b[38;5;241m.\u001b[39mmodel, mujoco\u001b[38;5;241m.\u001b[39mmjtFontScale\u001b[38;5;241m.\u001b[39mmjFONTSCALE_150)\n\u001b[1;32m     71\u001b[0m \u001b[38;5;28mself\u001b[39m\u001b[38;5;241m.\u001b[39m_set_mujoco_buffer()\n",
      "\u001b[0;31mFatalError\u001b[0m: gladLoadGL error"
     ]
    }
   ],
   "source": [
    "anim = lf.get_anim(interval = 1000/30)\n",
    "HTML(anim.to_jshtml())"
   ]
  },
  {
   "cell_type": "code",
   "execution_count": 11,
   "id": "b87406b7-c795-4cdc-82cc-079c7c16979b",
   "metadata": {},
   "outputs": [],
   "source": [
    "#anim.save(\"lunarlander.gif\", writer='pillow', fps=30)"
   ]
  },
  {
   "cell_type": "code",
   "execution_count": null,
   "id": "15f5978d-b289-406a-83f4-fed334232fdd",
   "metadata": {},
   "outputs": [],
   "source": []
  }
 ],
 "metadata": {
  "kernelspec": {
   "display_name": "Python 3 (ipykernel)",
   "language": "python",
   "name": "python3"
  },
  "language_info": {
   "codemirror_mode": {
    "name": "ipython",
    "version": 3
   },
   "file_extension": ".py",
   "mimetype": "text/x-python",
   "name": "python",
   "nbconvert_exporter": "python",
   "pygments_lexer": "ipython3",
   "version": "3.13.2"
  }
 },
 "nbformat": 4,
 "nbformat_minor": 5
}
