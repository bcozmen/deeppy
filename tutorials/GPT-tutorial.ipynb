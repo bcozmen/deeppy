{
 "cells": [
  {
   "cell_type": "code",
   "execution_count": 1,
   "id": "45704f5f-da5d-403d-8834-cea4bed271a9",
   "metadata": {},
   "outputs": [],
   "source": [
    "import sys\n",
    "import os\n",
    "\n",
    "# Add the path to the parent module\n",
    "sys.path.append(os.path.abspath('../..'))\n",
    "\n",
    "import warnings\n",
    "warnings.filterwarnings('ignore')\n",
    "\n",
    "\n",
    "import deeppy as dp\n",
    "\n",
    "import torch\n",
    "import torch.optim as optim\n",
    "import torch.nn as nn\n",
    "device = torch.device(\"cuda\" if torch.cuda.is_available() else \"cpu\")\n",
    "\n",
    "\n",
    "import numpy as np\n",
    "import matplotlib.pyplot as plt\n",
    "\n",
    "\n",
    "\n",
    "from deeppy import LearnFrame,LayerGenerator,FromLoader\n",
    "from deeppy.models.nlp.gpt import GPT\n",
    "from deeppy import FromLoader\n"
   ]
  },
  {
   "cell_type": "code",
   "execution_count": 2,
   "id": "1aef956c-d931-4d71-b77e-0968daea2cc6",
   "metadata": {},
   "outputs": [],
   "source": [
    "import pickle\n",
    "from torch.utils.data import Dataset,DataLoader\n",
    "class SortDataset(Dataset):\n",
    "    \"\"\" \n",
    "    Dataset for the Sort problem. E.g. for problem length 6:\n",
    "    Input: 0 0 2 1 0 1 -> Output: 0 0 0 1 1 2\n",
    "    Which will feed into the transformer concatenated as:\n",
    "    input:  0 0 2 1 0 1 0 0 0 1 1\n",
    "    output: I I I I I 0 0 0 1 1 2\n",
    "    where I is \"ignore\", as the transformer is reading the input sequence\n",
    "    \"\"\"\n",
    "\n",
    "    def __init__(self, split, length=6, num_digits=3):\n",
    "        assert split in {'train', 'test'}\n",
    "        self.split = split\n",
    "        self.length = length\n",
    "        self.num_digits = num_digits\n",
    "    \n",
    "    def __len__(self):\n",
    "        return 10000 # ...\n",
    "    \n",
    "    def get_vocab_size(self):\n",
    "        return self.num_digits\n",
    "    \n",
    "    def get_block_size(self):\n",
    "        # the length of the sequence that will feed into transformer, \n",
    "        # containing concatenated input and the output, but -1 because\n",
    "        # the transformer starts making predictions at the last input element\n",
    "        return self.length * 2 - 1\n",
    "\n",
    "    def __getitem__(self, idx):\n",
    "        \n",
    "        # use rejection sampling to generate an input example from the desired split\n",
    "        while True:\n",
    "            # generate some random integers\n",
    "            inp = torch.randint(self.num_digits, size=(self.length,), dtype=torch.long)\n",
    "            # half of the time let's try to boost the number of examples that \n",
    "            # have a large number of repeats, as this is what the model seems to struggle\n",
    "            # with later in training, and they are kind of rate\n",
    "            if torch.rand(1).item() < 0.5:\n",
    "                if inp.unique().nelement() > self.length // 2:\n",
    "                    # too many unqiue digits, re-sample\n",
    "                    continue\n",
    "            # figure out if this generated example is train or test based on its hash\n",
    "            h = hash(pickle.dumps(inp.tolist()))\n",
    "            inp_split = 'test' if h % 4 == 0 else 'train' # designate 25% of examples as test\n",
    "            if inp_split == self.split:\n",
    "                break # ok\n",
    "        \n",
    "        # solve the task: i.e. sort\n",
    "        sol = torch.sort(inp)[0]\n",
    "\n",
    "        # concatenate the problem specification and the solution\n",
    "        cat = torch.cat((inp, sol), dim=0)\n",
    "\n",
    "        # the inputs to the transformer will be the offset sequence\n",
    "        x = cat[:-1].clone()\n",
    "        y = cat[1:].clone()\n",
    "        # we only want to predict at output locations, mask out the loss at the input locations\n",
    "        y[:self.length-1] = -1\n",
    "        return x, y\n",
    "\n",
    "\n",
    "train_dataset = SortDataset('train')\n",
    "test_dataset = SortDataset('test')\n",
    "train_loader = DataLoader(\n",
    "            train_dataset,\n",
    "            sampler=torch.utils.data.RandomSampler(train_dataset, replacement=True, num_samples=int(1e10)),\n",
    "            shuffle=False,\n",
    "            pin_memory=True,\n",
    "            batch_size=64,\n",
    "        )\n",
    "\n",
    "test_loader = DataLoader(\n",
    "            test_dataset,\n",
    "            sampler=torch.utils.data.RandomSampler(test_dataset, replacement=True, num_samples=int(1e10)),\n",
    "            shuffle=False,\n",
    "            pin_memory=True,\n",
    "            batch_size=64,\n",
    "        )\n",
    "\n",
    "data = FromLoader(train_loader = train_loader, test_loader = test_loader)"
   ]
  },
  {
   "cell_type": "code",
   "execution_count": 3,
   "id": "668ff260-5d8a-49c5-bebb-e224ee0cb537",
   "metadata": {},
   "outputs": [],
   "source": [
    "Scheduler_params = {\n",
    "    \"scheduler\" : optim.lr_scheduler.StepLR,\n",
    "    \"gamma\":(1e-5 / 5e-4)**(1/10000),\n",
    "    \"auto_step\":True,\n",
    "    \"step_size\" : 1\n",
    "}\n",
    "\n",
    "Scheduler_params = {\n",
    "    \"scheduler\" : optim.lr_scheduler.CyclicLR,\n",
    "    \"max_lr\":5e-4,\n",
    "    \"base_lr\":1e-5,\n",
    "    \"step_size_up\":2000,\n",
    "    \"auto_step\":False,\n",
    "    \"mode\":\"triangular2\"\n",
    "}\n",
    "\n",
    "Optimizer_params = {\n",
    "    \"optimizer\":optim.AdamW,\n",
    "    \"optimizer_args\":{\"lr\":5e-4, \"amsgrad\" : True, \"weight_decay\" : 0, \"betas\" : (0.9, 0.95)},\n",
    "    \"clipper\":nn.utils.clip_grad_norm_,\n",
    "    \"clipper_params\":{\"max_norm\" : 1.0},\n",
    "    \"scheduler_params\":None,\n",
    "}\n",
    "\n",
    "model = GPT(optimizer_params=Optimizer_params, device=device, criterion = nn.CrossEntropyLoss(ignore_index = -1))\n"
   ]
  },
  {
   "cell_type": "code",
   "execution_count": 4,
   "id": "97ed13a2-76db-4942-b8f4-55a3f2fdeee7",
   "metadata": {},
   "outputs": [],
   "source": [
    "lf = LearnFrame(model,data)"
   ]
  },
  {
   "cell_type": "code",
   "execution_count": 5,
   "id": "29561fb0-bd61-40f2-a6d4-df0de7b84ac6",
   "metadata": {},
   "outputs": [
    {
     "data": {
      "text/plain": [
       "Network(\n",
       "  (model): Sequential(\n",
       "    (0): Embedding(3, 48)\n",
       "    (1): GPTPositionalEncoder(\n",
       "      (embed): Embedding(11, 48)\n",
       "    )\n",
       "    (2): Dropout(p=0.1, inplace=False)\n",
       "    (3): TransformerEncoder(\n",
       "      (layers): ModuleList(\n",
       "        (0-2): 3 x TransformerEncoderLayer(\n",
       "          (self_attn): MultiheadAttention(\n",
       "            (out_proj): NonDynamicallyQuantizableLinear(in_features=48, out_features=48, bias=True)\n",
       "          )\n",
       "          (linear1): Linear(in_features=48, out_features=192, bias=True)\n",
       "          (dropout): Dropout(p=0.1, inplace=False)\n",
       "          (linear2): Linear(in_features=192, out_features=48, bias=True)\n",
       "          (norm1): LayerNorm((48,), eps=1e-05, elementwise_affine=True)\n",
       "          (norm2): LayerNorm((48,), eps=1e-05, elementwise_affine=True)\n",
       "          (dropout1): Dropout(p=0.1, inplace=False)\n",
       "          (dropout2): Dropout(p=0.1, inplace=False)\n",
       "          (activation): GELU(approximate='none')\n",
       "        )\n",
       "      )\n",
       "    )\n",
       "    (4): LayerNorm((48,), eps=1e-05, elementwise_affine=True)\n",
       "    (5): Linear(in_features=48, out_features=3, bias=False)\n",
       "  )\n",
       ")"
      ]
     },
     "execution_count": 5,
     "metadata": {},
     "output_type": "execute_result"
    }
   ],
   "source": [
    "model.net"
   ]
  },
  {
   "cell_type": "code",
   "execution_count": null,
   "id": "8baa7366-a465-474c-88b6-b77fad3eebea",
   "metadata": {},
   "outputs": [],
   "source": [
    "epoch = 2000\n",
    "\n",
    "for i in range(epoch):\n",
    "    lf.optimize()\n",
    "    lf.test()\n",
    "        \n",
    "lf.plot(show_result=True, log=True)"
   ]
  },
  {
   "cell_type": "code",
   "execution_count": 7,
   "id": "734a2a0f-525a-4a32-8980-d675ff642875",
   "metadata": {},
   "outputs": [
    {
     "ename": "TypeError",
     "evalue": "GPT.generate() missing 2 required positional arguments: 'idx' and 'max_new_tokens'",
     "output_type": "error",
     "traceback": [
      "\u001b[0;31m---------------------------------------------------------------------------\u001b[0m",
      "\u001b[0;31mTypeError\u001b[0m                                 Traceback (most recent call last)",
      "Cell \u001b[0;32mIn[7], line 1\u001b[0m\n\u001b[0;32m----> 1\u001b[0m model\u001b[38;5;241m.\u001b[39mgenerate()\n",
      "File \u001b[0;32m~/anaconda3/envs/deeppy/lib/python3.13/site-packages/torch/utils/_contextlib.py:116\u001b[0m, in \u001b[0;36mcontext_decorator.<locals>.decorate_context\u001b[0;34m(*args, **kwargs)\u001b[0m\n\u001b[1;32m    113\u001b[0m \u001b[38;5;129m@functools\u001b[39m\u001b[38;5;241m.\u001b[39mwraps(func)\n\u001b[1;32m    114\u001b[0m \u001b[38;5;28;01mdef\u001b[39;00m \u001b[38;5;21mdecorate_context\u001b[39m(\u001b[38;5;241m*\u001b[39margs, \u001b[38;5;241m*\u001b[39m\u001b[38;5;241m*\u001b[39mkwargs):\n\u001b[1;32m    115\u001b[0m     \u001b[38;5;28;01mwith\u001b[39;00m ctx_factory():\n\u001b[0;32m--> 116\u001b[0m         \u001b[38;5;28;01mreturn\u001b[39;00m func(\u001b[38;5;241m*\u001b[39margs, \u001b[38;5;241m*\u001b[39m\u001b[38;5;241m*\u001b[39mkwargs)\n",
      "\u001b[0;31mTypeError\u001b[0m: GPT.generate() missing 2 required positional arguments: 'idx' and 'max_new_tokens'"
     ]
    }
   ],
   "source": [
    "model.generate()"
   ]
  },
  {
   "cell_type": "code",
   "execution_count": 53,
   "id": "a4094c1b-b47a-40fc-9543-55bc52717649",
   "metadata": {},
   "outputs": [
    {
     "data": {
      "text/plain": [
       "tensor(182)"
      ]
     },
     "execution_count": 53,
     "metadata": {},
     "output_type": "execute_result"
    }
   ],
   "source": [
    "y[:,-6:]\n",
    "\n",
    "(x[:,:6] == y[:,-6:]).flatten()"
   ]
  },
  {
   "cell_type": "code",
   "execution_count": 45,
   "id": "2101bf53-0ba9-47a2-9a96-68ac7b3c5357",
   "metadata": {},
   "outputs": [
    {
     "data": {
      "text/plain": [
       "tensor([0, 0, 0, 1, 2, 1, 0, 0, 0, 1, 1])"
      ]
     },
     "execution_count": 45,
     "metadata": {},
     "output_type": "execute_result"
    }
   ],
   "source": [
    "x[0]"
   ]
  },
  {
   "cell_type": "code",
   "execution_count": 46,
   "id": "d9587fce-449e-4c8d-b0d2-49a273b1bf87",
   "metadata": {},
   "outputs": [
    {
     "data": {
      "text/plain": [
       "6"
      ]
     },
     "execution_count": 46,
     "metadata": {},
     "output_type": "execute_result"
    }
   ],
   "source": [
    "xsize = y[0]\n",
    "xsize = len(xsize[xsize!=-1])\n",
    "xsize"
   ]
  },
  {
   "cell_type": "code",
   "execution_count": 43,
   "id": "2ed6d466-bac6-4bcc-895e-2006f43192d9",
   "metadata": {},
   "outputs": [
    {
     "data": {
      "text/plain": [
       "tensor([[0, 0, 0, 1, 2, 1],\n",
       "        [1, 2, 1, 0, 1, 0],\n",
       "        [0, 2, 1, 0, 1, 1],\n",
       "        [0, 0, 1, 1, 2, 2],\n",
       "        [1, 2, 2, 0, 0, 1],\n",
       "        [0, 0, 2, 1, 2, 0],\n",
       "        [2, 0, 0, 2, 1, 1],\n",
       "        [0, 1, 0, 0, 2, 1],\n",
       "        [2, 1, 0, 0, 0, 1],\n",
       "        [2, 0, 1, 0, 2, 0],\n",
       "        [2, 2, 2, 2, 1, 2],\n",
       "        [0, 0, 1, 1, 2, 2],\n",
       "        [2, 2, 0, 1, 1, 2],\n",
       "        [2, 0, 0, 0, 1, 0],\n",
       "        [1, 2, 2, 0, 2, 2],\n",
       "        [2, 2, 0, 0, 0, 2],\n",
       "        [1, 0, 0, 0, 0, 1],\n",
       "        [2, 0, 0, 0, 1, 2],\n",
       "        [0, 1, 0, 0, 2, 2],\n",
       "        [1, 1, 2, 1, 0, 2],\n",
       "        [0, 0, 1, 2, 0, 0],\n",
       "        [0, 1, 2, 1, 1, 1],\n",
       "        [0, 1, 2, 1, 1, 1],\n",
       "        [1, 2, 0, 2, 0, 2],\n",
       "        [1, 0, 0, 0, 0, 1],\n",
       "        [1, 0, 2, 1, 2, 2],\n",
       "        [2, 0, 0, 2, 2, 2],\n",
       "        [0, 1, 1, 0, 1, 1],\n",
       "        [1, 0, 2, 2, 0, 2],\n",
       "        [2, 1, 2, 0, 2, 2],\n",
       "        [0, 1, 1, 1, 1, 1],\n",
       "        [1, 2, 0, 0, 0, 2],\n",
       "        [1, 1, 2, 2, 1, 2],\n",
       "        [0, 2, 0, 2, 2, 0],\n",
       "        [1, 0, 2, 2, 0, 2],\n",
       "        [0, 0, 1, 2, 0, 0],\n",
       "        [2, 0, 1, 0, 0, 0],\n",
       "        [1, 1, 1, 0, 1, 0],\n",
       "        [0, 2, 2, 2, 0, 2],\n",
       "        [1, 1, 1, 0, 0, 2],\n",
       "        [2, 1, 0, 1, 2, 0],\n",
       "        [2, 0, 0, 1, 2, 1],\n",
       "        [0, 2, 1, 2, 1, 1],\n",
       "        [2, 0, 0, 2, 1, 2],\n",
       "        [2, 2, 2, 0, 0, 2],\n",
       "        [2, 0, 1, 0, 1, 0],\n",
       "        [2, 1, 2, 1, 0, 1],\n",
       "        [1, 1, 0, 0, 0, 2],\n",
       "        [1, 0, 2, 1, 2, 0],\n",
       "        [0, 0, 2, 0, 2, 0],\n",
       "        [2, 2, 0, 2, 0, 0],\n",
       "        [1, 2, 0, 1, 0, 2],\n",
       "        [0, 0, 2, 1, 2, 0],\n",
       "        [1, 2, 0, 1, 0, 2],\n",
       "        [2, 1, 1, 0, 2, 0],\n",
       "        [2, 1, 1, 2, 1, 1],\n",
       "        [1, 1, 0, 2, 0, 2],\n",
       "        [2, 1, 2, 2, 0, 2],\n",
       "        [0, 0, 1, 0, 0, 2],\n",
       "        [2, 0, 1, 1, 0, 1],\n",
       "        [1, 2, 0, 0, 1, 2],\n",
       "        [1, 2, 0, 2, 2, 2],\n",
       "        [2, 0, 2, 2, 0, 0],\n",
       "        [1, 0, 1, 1, 0, 0]])"
      ]
     },
     "execution_count": 43,
     "metadata": {},
     "output_type": "execute_result"
    }
   ],
   "source": [
    "x[:,:6]"
   ]
  },
  {
   "cell_type": "code",
   "execution_count": 20,
   "id": "2ebfbed1-861f-4ceb-8235-5be39cb122e2",
   "metadata": {},
   "outputs": [],
   "source": [
    "x,y = data.test_data()\n",
    "#x = x[:,:6]\n",
    "#y = y[:,-6:]"
   ]
  },
  {
   "cell_type": "code",
   "execution_count": 16,
   "id": "25e1857e-259b-4ae0-81f8-c422dee8c8d4",
   "metadata": {},
   "outputs": [
    {
     "data": {
      "text/plain": [
       "tensor([[1, 1, 1, 1, 1, 1, 1, 1, 1, 1, 1, 1],\n",
       "        [2, 2, 2, 2, 0, 2, 0, 2, 2, 2, 2, 2],\n",
       "        [0, 0, 1, 0, 1, 2, 0, 0, 0, 0, 1, 2],\n",
       "        [1, 0, 2, 1, 2, 0, 0, 0, 0, 0, 1, 2],\n",
       "        [2, 0, 1, 1, 1, 1, 0, 0, 0, 0, 1, 2],\n",
       "        [1, 0, 1, 2, 0, 0, 0, 0, 0, 0, 2, 2],\n",
       "        [0, 1, 2, 1, 2, 2, 0, 0, 0, 1, 2, 2],\n",
       "        [1, 1, 1, 0, 2, 2, 0, 1, 1, 1, 2, 2],\n",
       "        [0, 0, 1, 0, 0, 2, 0, 0, 0, 0, 2, 2],\n",
       "        [2, 0, 0, 0, 1, 0, 0, 0, 0, 0, 1, 2],\n",
       "        [1, 2, 1, 1, 2, 1, 1, 1, 1, 1, 2, 2],\n",
       "        [2, 0, 2, 2, 0, 1, 0, 0, 0, 0, 2, 2],\n",
       "        [1, 2, 0, 1, 0, 1, 0, 0, 1, 1, 1, 2],\n",
       "        [1, 0, 2, 2, 2, 0, 0, 0, 0, 2, 2, 2],\n",
       "        [2, 1, 0, 2, 2, 1, 0, 0, 0, 2, 2, 2],\n",
       "        [0, 0, 0, 1, 0, 2, 0, 0, 0, 0, 0, 2],\n",
       "        [2, 1, 1, 2, 1, 1, 1, 1, 1, 1, 1, 2],\n",
       "        [2, 2, 0, 2, 0, 0, 0, 0, 0, 0, 2, 2],\n",
       "        [1, 2, 2, 1, 0, 0, 0, 0, 0, 0, 2, 2],\n",
       "        [2, 1, 0, 0, 0, 1, 0, 0, 0, 0, 1, 2],\n",
       "        [1, 2, 1, 0, 0, 0, 0, 0, 0, 0, 1, 2],\n",
       "        [2, 1, 2, 2, 1, 0, 0, 0, 0, 2, 2, 2],\n",
       "        [0, 1, 0, 0, 1, 1, 0, 0, 0, 0, 1, 1],\n",
       "        [1, 0, 2, 2, 2, 2, 0, 0, 0, 2, 2, 2],\n",
       "        [1, 0, 0, 2, 2, 2, 0, 0, 0, 0, 2, 2],\n",
       "        [1, 0, 1, 1, 0, 2, 0, 0, 0, 0, 1, 2],\n",
       "        [1, 2, 0, 2, 0, 2, 0, 0, 0, 0, 2, 2],\n",
       "        [2, 1, 2, 0, 2, 2, 0, 2, 2, 2, 2, 2],\n",
       "        [1, 2, 0, 1, 1, 0, 0, 0, 0, 0, 2, 2],\n",
       "        [1, 1, 0, 1, 2, 1, 0, 0, 0, 1, 1, 2],\n",
       "        [1, 2, 0, 1, 0, 1, 0, 0, 0, 0, 1, 2],\n",
       "        [1, 2, 2, 0, 0, 1, 0, 0, 0, 0, 2, 2],\n",
       "        [1, 0, 2, 1, 2, 2, 0, 0, 0, 0, 2, 2],\n",
       "        [1, 0, 0, 0, 0, 1, 0, 0, 0, 0, 0, 0],\n",
       "        [2, 2, 1, 2, 2, 2, 1, 2, 2, 2, 2, 2],\n",
       "        [0, 0, 0, 2, 0, 0, 0, 0, 0, 0, 0, 0],\n",
       "        [0, 1, 2, 2, 1, 0, 0, 0, 0, 0, 1, 2],\n",
       "        [2, 0, 2, 2, 2, 0, 0, 0, 0, 0, 2, 2],\n",
       "        [2, 2, 2, 2, 1, 2, 2, 2, 2, 2, 2, 2],\n",
       "        [2, 0, 0, 1, 2, 1, 0, 0, 0, 1, 1, 2],\n",
       "        [1, 1, 1, 1, 0, 2, 0, 0, 0, 1, 1, 2],\n",
       "        [0, 0, 0, 1, 1, 2, 0, 0, 0, 0, 1, 2],\n",
       "        [0, 0, 2, 0, 2, 0, 0, 0, 0, 0, 0, 0],\n",
       "        [0, 0, 1, 0, 0, 0, 0, 0, 0, 0, 0, 0],\n",
       "        [1, 1, 1, 2, 2, 2, 1, 2, 2, 2, 2, 2],\n",
       "        [2, 1, 1, 2, 2, 1, 1, 1, 1, 1, 2, 2],\n",
       "        [2, 0, 0, 2, 1, 1, 0, 0, 0, 0, 2, 2],\n",
       "        [2, 1, 2, 0, 0, 0, 0, 0, 0, 0, 2, 2],\n",
       "        [0, 0, 1, 0, 0, 0, 0, 0, 0, 0, 0, 0],\n",
       "        [1, 1, 2, 2, 1, 2, 1, 1, 1, 1, 1, 2],\n",
       "        [1, 2, 1, 1, 0, 0, 0, 0, 0, 0, 2, 2],\n",
       "        [1, 0, 2, 2, 0, 0, 0, 0, 0, 0, 2, 2],\n",
       "        [1, 1, 0, 2, 0, 2, 0, 0, 0, 2, 2, 2],\n",
       "        [0, 2, 0, 0, 2, 1, 0, 0, 0, 0, 2, 2],\n",
       "        [1, 0, 2, 2, 0, 2, 0, 0, 1, 2, 2, 2],\n",
       "        [0, 2, 2, 2, 0, 2, 0, 0, 0, 0, 2, 2],\n",
       "        [2, 2, 0, 0, 2, 0, 0, 0, 0, 0, 2, 2],\n",
       "        [2, 0, 1, 2, 2, 0, 0, 0, 0, 0, 2, 2],\n",
       "        [0, 0, 1, 2, 2, 1, 0, 0, 0, 0, 2, 2],\n",
       "        [0, 0, 0, 1, 1, 0, 0, 0, 0, 0, 1, 1],\n",
       "        [0, 1, 1, 0, 1, 0, 0, 0, 0, 0, 0, 2],\n",
       "        [1, 0, 0, 2, 1, 0, 0, 0, 0, 0, 1, 2],\n",
       "        [0, 0, 1, 0, 0, 0, 0, 0, 0, 0, 0, 0],\n",
       "        [0, 0, 0, 1, 0, 2, 0, 0, 0, 0, 0, 2]], device='cuda:0')"
      ]
     },
     "execution_count": 16,
     "metadata": {},
     "output_type": "execute_result"
    }
   ],
   "source": [
    "model.generate(model.ensure(x), max_new_tokens=6)"
   ]
  },
  {
   "cell_type": "code",
   "execution_count": 34,
   "id": "2f1e0b76-86c0-4a93-8aeb-340e6faf57e0",
   "metadata": {},
   "outputs": [
    {
     "ename": "IndexError",
     "evalue": "Dimension out of range (expected to be in range of [-1, 0], but got 1)",
     "output_type": "error",
     "traceback": [
      "\u001b[0;31m---------------------------------------------------------------------------\u001b[0m",
      "\u001b[0;31mIndexError\u001b[0m                                Traceback (most recent call last)",
      "Cell \u001b[0;32mIn[34], line 1\u001b[0m\n\u001b[0;32m----> 1\u001b[0m x[\u001b[38;5;241m0\u001b[39m]\u001b[38;5;241m.\u001b[39msize(\u001b[38;5;241m1\u001b[39m)\n",
      "\u001b[0;31mIndexError\u001b[0m: Dimension out of range (expected to be in range of [-1, 0], but got 1)"
     ]
    }
   ],
   "source": [
    "x[0].size(1)"
   ]
  },
  {
   "cell_type": "code",
   "execution_count": null,
   "id": "3c8d843a-4ca4-4c0b-bd6d-1c439b25d54b",
   "metadata": {},
   "outputs": [],
   "source": []
  }
 ],
 "metadata": {
  "kernelspec": {
   "display_name": "Python 3 (ipykernel)",
   "language": "python",
   "name": "python3"
  },
  "language_info": {
   "codemirror_mode": {
    "name": "ipython",
    "version": 3
   },
   "file_extension": ".py",
   "mimetype": "text/x-python",
   "name": "python",
   "nbconvert_exporter": "python",
   "pygments_lexer": "ipython3",
   "version": "3.13.2"
  }
 },
 "nbformat": 4,
 "nbformat_minor": 5
}
