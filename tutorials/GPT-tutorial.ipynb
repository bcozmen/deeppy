{
 "cells": [
  {
   "cell_type": "code",
   "execution_count": 1,
   "id": "45704f5f-da5d-403d-8834-cea4bed271a9",
   "metadata": {},
   "outputs": [],
   "source": [
    "import sys\n",
    "import os\n",
    "\n",
    "# Add the path to the parent module\n",
    "sys.path.append(os.path.abspath('../..'))\n",
    "\n",
    "import warnings\n",
    "warnings.filterwarnings('ignore')\n",
    "\n",
    "\n",
    "import deeppy as dp\n",
    "\n",
    "import torch\n",
    "import torch.optim as optim\n",
    "import torch.nn as nn\n",
    "device = torch.device(\"cuda\" if torch.cuda.is_available() else \"cpu\")\n",
    "\n",
    "\n",
    "import numpy as np\n",
    "import matplotlib.pyplot as plt\n",
    "\n",
    "import tiktoken\n",
    "from datasets import load_dataset\n",
    "\n",
    "\n",
    "from deeppy import LearnFrame,LayerGenerator,FromLoader\n",
    "from deeppy.models.nlp.gpt import GPT\n",
    "from deeppy import GPTText\n"
   ]
  },
  {
   "cell_type": "code",
   "execution_count": 2,
   "id": "b7942a0a-e548-4133-a6ec-679c32cf5705",
   "metadata": {},
   "outputs": [],
   "source": [
    "encoding = tiktoken.encoding_for_model(\"gpt-2\")\n",
    "\n",
    "\n",
    "vocab_size = encoding.n_vocab\n",
    "context_size = 16"
   ]
  },
  {
   "cell_type": "code",
   "execution_count": 3,
   "id": "1aef956c-d931-4d71-b77e-0968daea2cc6",
   "metadata": {},
   "outputs": [],
   "source": [
    "with open(\"assets/shakespeare.txt\", \"r\", encoding = \"utf-8\") as f:\n",
    "    text = f.read()\n",
    "\n",
    "data = GPTText(train=text, tokenizer=encoding, context_size = context_size)\n"
   ]
  },
  {
   "cell_type": "code",
   "execution_count": 4,
   "id": "668ff260-5d8a-49c5-bebb-e224ee0cb537",
   "metadata": {},
   "outputs": [
    {
     "name": "stdout",
     "output_type": "stream",
     "text": [
      "Sequential(\n",
      "  (0): Embedding(50257, 256)\n",
      "  (1): OrderedPositionalEmbedding(\n",
      "    (embed): Embedding(16, 256)\n",
      "  )\n",
      "  (2): Dropout(p=0.1, inplace=False)\n",
      "  (3): MaskedTransformerEncoder(\n",
      "    (encoder): TransformerEncoder(\n",
      "      (layers): ModuleList(\n",
      "        (0-3): 4 x TransformerEncoderLayer(\n",
      "          (self_attn): MultiheadAttention(\n",
      "            (out_proj): NonDynamicallyQuantizableLinear(in_features=256, out_features=256, bias=True)\n",
      "          )\n",
      "          (linear1): Linear(in_features=256, out_features=1024, bias=True)\n",
      "          (dropout): Dropout(p=0.1, inplace=False)\n",
      "          (linear2): Linear(in_features=1024, out_features=256, bias=True)\n",
      "          (norm1): LayerNorm((256,), eps=1e-05, elementwise_affine=True)\n",
      "          (norm2): LayerNorm((256,), eps=1e-05, elementwise_affine=True)\n",
      "          (dropout1): Dropout(p=0.1, inplace=False)\n",
      "          (dropout2): Dropout(p=0.1, inplace=False)\n",
      "          (activation): GELU(approximate='none')\n",
      "        )\n",
      "      )\n",
      "    )\n",
      "  )\n",
      "  (4): LayerNorm((256,), eps=1e-05, elementwise_affine=True)\n",
      "  (5): Linear(in_features=256, out_features=50257, bias=False)\n",
      ")\n",
      "Total parameters : 28.895232 Million\n"
     ]
    }
   ],
   "source": [
    "Optimizer_params = {\n",
    "    \"optimizer\":optim.AdamW,\n",
    "    \"optimizer_args\":{\"lr\":3e-4, \"amsgrad\" : True, \"weight_decay\" : 0, \"betas\" : (0.9, 0.95)},\n",
    "    \"clipper\":nn.utils.clip_grad_norm_,\n",
    "    \"clipper_params\":{\"max_norm\" : 1.0},\n",
    "    \"scheduler_params\":None,\n",
    "}\n",
    "\n",
    "GPT_params = {\n",
    "    \"optimizer_params\":Optimizer_params,\n",
    "    \"vocab_size\":vocab_size,\n",
    "    \"embed_dim\":256,\n",
    "    \"num_heads\":4,\n",
    "    \"num_layers\":4,\n",
    "    \"context_size\":context_size,\n",
    "    \"device\":device,\n",
    "    \"criterion\":nn.CrossEntropyLoss(ignore_index = -1),\n",
    "}\n",
    "\n",
    "model = GPT(**GPT_params)\n",
    "\n",
    "print(f\"Total parameters : {sum(p.numel() for p in model.net.parameters()) / 1e6} Million\")"
   ]
  },
  {
   "cell_type": "code",
   "execution_count": 28,
   "id": "0d5a78e0-cc20-4a13-85bc-6a715206e152",
   "metadata": {},
   "outputs": [
    {
     "name": "stdout",
     "output_type": "stream",
     "text": [
      "\n",
      "model\n",
      "model.0\n",
      "model.1\n",
      "model.1.embed\n",
      "model.2\n",
      "model.3\n",
      "model.3.encoder\n",
      "model.3.encoder.layers\n",
      "model.3.encoder.layers.0\n",
      "model.3.encoder.layers.0.self_attn\n",
      "model.3.encoder.layers.0.self_attn.out_proj\n",
      "model.3.encoder.layers.0.linear1\n",
      "model.3.encoder.layers.0.dropout\n",
      "model.3.encoder.layers.0.linear2\n",
      "model.3.encoder.layers.0.norm1\n",
      "model.3.encoder.layers.0.norm2\n",
      "model.3.encoder.layers.0.dropout1\n",
      "model.3.encoder.layers.0.dropout2\n",
      "model.3.encoder.layers.0.activation\n",
      "model.3.encoder.layers.1\n",
      "model.3.encoder.layers.1.self_attn\n",
      "model.3.encoder.layers.1.self_attn.out_proj\n",
      "model.3.encoder.layers.1.linear1\n",
      "model.3.encoder.layers.1.dropout\n",
      "model.3.encoder.layers.1.linear2\n",
      "model.3.encoder.layers.1.norm1\n",
      "model.3.encoder.layers.1.norm2\n",
      "model.3.encoder.layers.1.dropout1\n",
      "model.3.encoder.layers.1.dropout2\n",
      "model.3.encoder.layers.1.activation\n",
      "model.3.encoder.layers.2\n",
      "model.3.encoder.layers.2.self_attn\n",
      "model.3.encoder.layers.2.self_attn.out_proj\n",
      "model.3.encoder.layers.2.linear1\n",
      "model.3.encoder.layers.2.dropout\n",
      "model.3.encoder.layers.2.linear2\n",
      "model.3.encoder.layers.2.norm1\n",
      "model.3.encoder.layers.2.norm2\n",
      "model.3.encoder.layers.2.dropout1\n",
      "model.3.encoder.layers.2.dropout2\n",
      "model.3.encoder.layers.2.activation\n",
      "model.3.encoder.layers.3\n",
      "model.3.encoder.layers.3.self_attn\n",
      "model.3.encoder.layers.3.self_attn.out_proj\n",
      "model.3.encoder.layers.3.linear1\n",
      "model.3.encoder.layers.3.dropout\n",
      "model.3.encoder.layers.3.linear2\n",
      "model.3.encoder.layers.3.norm1\n",
      "model.3.encoder.layers.3.norm2\n",
      "model.3.encoder.layers.3.dropout1\n",
      "model.3.encoder.layers.3.dropout2\n",
      "model.3.encoder.layers.3.activation\n",
      "model.4\n",
      "model.5\n"
     ]
    }
   ],
   "source": [
    "for n,i in (model.net.named_modules()):\n",
    "    print(n)"
   ]
  },
  {
   "cell_type": "code",
   "execution_count": 5,
   "id": "97ed13a2-76db-4942-b8f4-55a3f2fdeee7",
   "metadata": {},
   "outputs": [],
   "source": [
    "lf = LearnFrame(model,data)"
   ]
  },
  {
   "cell_type": "code",
   "execution_count": 7,
   "id": "8baa7366-a465-474c-88b6-b77fad3eebea",
   "metadata": {},
   "outputs": [
    {
     "data": {
      "image/png": "[encoded data removed]",
      "text/plain": [
       "<Figure size 1000x600 with 1 Axes>"
      ]
     },
     "metadata": {},
     "output_type": "display_data"
    },
    {
     "data": {
      "text/plain": [
       "<Figure size 640x480 with 0 Axes>"
      ]
     },
     "metadata": {},
     "output_type": "display_data"
    },
    {
     "data": {
      "text/plain": [
       "<Figure size 640x480 with 0 Axes>"
      ]
     },
     "metadata": {},
     "output_type": "display_data"
    }
   ],
   "source": [
    "epoch = 20000\n",
    "\n",
    "for i in range(epoch):\n",
    "    lf.optimize()\n",
    "    #lf.test()\n",
    "\n",
    "    if i % 100 == 0:\n",
    "        lf.plot(show_result=False, log=True)\n",
    "lf.plot(show_result=True, log=True, save = \"assets/GPT.png\")"
   ]
  },
  {
   "cell_type": "code",
   "execution_count": 25,
   "id": "e47dbb31-5533-4076-a52d-a1f88244739f",
   "metadata": {},
   "outputs": [
    {
     "name": "stdout",
     "output_type": "stream",
     "text": [
      "KING RICHARD III: \n",
      " On this very beautiful day, let us us hear\n",
      "The way of the king.\n",
      "\n",
      "DUKE OF YORK::\n",
      "I will not be avoided'd with my heart.\n",
      "\n",
      "DUKEKE VINCENTIO:\n",
      "I thank you, good father.\n",
      "\n",
      "LLUCIO:\n",
      "I thank you, good my lord; I'll to your your daughter.\n",
      "\n",
      "KING EDWARD IV:\n",
      "Now, by the jealous queen\n"
     ]
    }
   ],
   "source": [
    "txt = \"KING RICHARD III: \\n On this very beautiful day, let us\"\n",
    "for i in range(5):\n",
    "    inp = torch.tensor(encoding.encode(txt)).unsqueeze(0)\n",
    "    out = model.generate(inp, context_size).cpu()\n",
    "    inp = out\n",
    "    txt += encoding.decode(out.squeeze(0).tolist())\n",
    "print(txt)"
   ]
  },
  {
   "cell_type": "code",
   "execution_count": null,
   "id": "4cfe7401-e5ea-48eb-9024-0c9de47c3e97",
   "metadata": {},
   "outputs": [],
   "source": []
  }
 ],
 "metadata": {
  "kernelspec": {
   "display_name": "Python 3 (ipykernel)",
   "language": "python",
   "name": "python3"
  },
  "language_info": {
   "codemirror_mode": {
    "name": "ipython",
    "version": 3
   },
   "file_extension": ".py",
   "mimetype": "text/x-python",
   "name": "python",
   "nbconvert_exporter": "python",
   "pygments_lexer": "ipython3",
   "version": "3.13.2"
  }
 },
 "nbformat": 4,
 "nbformat_minor": 5
}
