{
 "cells": [
  {
   "cell_type": "code",
   "execution_count": 1,
   "id": "45704f5f-da5d-403d-8834-cea4bed271a9",
   "metadata": {},
   "outputs": [],
   "source": [
    "import sys\n",
    "import os\n",
    "\n",
    "# Add the path to the parent module\n",
    "sys.path.append(os.path.abspath('../..'))\n",
    "\n",
    "import warnings\n",
    "warnings.filterwarnings('ignore')\n",
    "\n",
    "\n",
    "import deeppy as dp\n",
    "\n",
    "import torch\n",
    "import torch.optim as optim\n",
    "import torch.nn as nn\n",
    "device = torch.device(\"cuda\" if torch.cuda.is_available() else \"cpu\")\n",
    "\n",
    "\n",
    "import numpy as np\n",
    "import matplotlib.pyplot as plt\n",
    "\n",
    "import tiktoken\n",
    "from datasets import load_dataset\n",
    "\n",
    "\n",
    "from deeppy import Network, IngpData, LearnFrame, FromLoader\n",
    "from deeppy.models.cv import Sane\n",
    "from torch.utils.data import Dataset, DataLoader, random_split\n"
   ]
  },
  {
   "cell_type": "code",
   "execution_count": 2,
   "id": "c2470fc2-8726-4e8b-856f-8eb02ad62bf9",
   "metadata": {},
   "outputs": [
    {
     "name": "stdout",
     "output_type": "stream",
     "text": [
      "64\n",
      "tensor([211,   6,  64])\n"
     ]
    }
   ],
   "source": [
    "\n",
    "\n",
    "data_config = {\n",
    "    'hash_encoding': {\n",
    "        'num_levels': 16,\n",
    "        'level_dim': 2,\n",
    "        'input_dim': 3,\n",
    "        'log2_hashmap_size': 19,\n",
    "        'base_resolution': 16\n",
    "    },\n",
    "    'mlp': {\n",
    "        'num_layers': 3,  # Number of layers in geometric MLP\n",
    "        'hidden_dim': 64,  # Hidden dimension size\n",
    "    }\n",
    "}\n",
    "\n",
    "window_size = 16\n",
    "data = IngpData(data_path=\"../../ten_objs/ten_objs/shared_data\", config = data_config, window_size=window_size)\n",
    "print(data.token_size)\n",
    "print(data.max_positions)\n",
    "\n",
    "dloader = DataLoader(data, batch_size=16, num_workers=4, pin_memory=True, shuffle = True)\n",
    "\n",
    "ddata = FromLoader(train_loader=dloader)"
   ]
  },
  {
   "cell_type": "code",
   "execution_count": 3,
   "id": "0023648a-cd4b-4c08-a253-e3ea553bda2d",
   "metadata": {},
   "outputs": [
    {
     "name": "stdout",
     "output_type": "stream",
     "text": [
      "        arch_params = {\n",
      "            \"layers\":[],\n",
      "            \"blocks\":[],\n",
      "            \"block_args\":[],\n",
      "            \"out_act\":<class 'torch.nn.modules.linear.Identity'>,\n",
      "            \"out_params\":{},\n",
      "            \"weight_init\":None,\n",
      "        }\n",
      "            Scheduler_params = {\n",
      "                \"scheduler\",\n",
      "                \"auto_step\":True,\n",
      "                \"**kwargs\",\n",
      "            }\n",
      "        Optimizer_params = {\n",
      "            \"configure_optimizer\":None,\n",
      "            \"optimizer\":<class 'torch.optim.adamw.AdamW'>,\n",
      "            \"optimizer_args\":{},\n",
      "            \"clipper\":None,\n",
      "            \"clipper_params\":{},\n",
      "            \"scheduler_params\":None,\n",
      "        }\n",
      "    Network_params = {\n",
      "        \"arch_params\",\n",
      "        \"decoder_params\":None,\n",
      "        \"task\":'reg',\n",
      "        \"optimizer_params\":None,\n",
      "        \"torch_compile\":False,\n",
      "    }\n",
      "Sane_params = {\n",
      "    \"optimizer_params\",\n",
      "    \"max_positions\",\n",
      "    \"input_dim\":201,\n",
      "    \"latent_dim\":128,\n",
      "    \"projection_dim\":30,\n",
      "    \"embed_dim\":1024,\n",
      "    \"num_heads\":4,\n",
      "    \"num_layers\":4,\n",
      "    \"dropout\":0.1,\n",
      "    \"context_size\":50,\n",
      "    \"bias\":True,\n",
      "    \"gamma\":0.5,\n",
      "    \"ntx_temp\":0.1,\n",
      "    \"device\":None,\n",
      "    \"amp\":False,\n",
      "    \"torch_compile\":False,\n",
      "}\n"
     ]
    }
   ],
   "source": [
    "Sane.print_args()"
   ]
  },
  {
   "cell_type": "code",
   "execution_count": 4,
   "id": "50f6ba7f-4b5f-4aaf-bbf3-90cefd1b3460",
   "metadata": {},
   "outputs": [],
   "source": [
    "batch_size = 32\n",
    "input_dim = data.token_size\n",
    "embed_dim = 64\n",
    "latent_dim = 128\n",
    "num_heads = 4\n",
    "num_layers = 4\n",
    "window_size = window_size\n",
    "max_positions = data.max_positions\n",
    "dropout = 0.1\n",
    "bias = False\n",
    "projection_dim = 10\n",
    "\n",
    "one_epoch_length = 1000\n",
    "epochs = 50 * one_epoch_length"
   ]
  },
  {
   "cell_type": "code",
   "execution_count": 5,
   "id": "471c307d-c124-47b9-99ff-11c24f5998be",
   "metadata": {},
   "outputs": [],
   "source": [
    "scheduler_config = {\n",
    "   \n",
    "}\n",
    "\n",
    "Scheduler_params = {\n",
    "                \"scheduler\" : optim.lr_scheduler.OneCycleLR,\n",
    "                \"auto_step\":True,\n",
    "                 \"max_lr\": 3e-4,\n",
    "                \"total_steps\": epochs,\n",
    "                \"pct_start\": 0.3,\n",
    "                \"anneal_strategy\": \"cos\",\n",
    "                \"cycle_momentum\": True,\n",
    "                \"base_momentum\": 0.85,\n",
    "                \"max_momentum\": 0.95,\n",
    "                \"div_factor\": 25.0,\n",
    "                \"final_div_factor\": 10000.0,\n",
    "                \"three_phase\": False,\n",
    "                \"last_epoch\": -1,\n",
    "                \"verbose\": False,\n",
    "}\n",
    "\n",
    "Optimizer_params = {\n",
    "    \"optimizer\":optim.AdamW,\n",
    "    \"optimizer_args\":{\"lr\":3e-4, \"amsgrad\" : True, \"weight_decay\" : 3e-4, \"fused\" : True},\n",
    "    \"clipper\":nn.utils.clip_grad_norm_,\n",
    "    \"clipper_params\":{\"max_norm\" : 500.0},\n",
    "    \"scheduler_params\":Scheduler_params,\n",
    "}\n",
    "\n",
    "Sane_params = {\n",
    "    \"optimizer_params\":Optimizer_params,\n",
    "    \"max_positions\" : max_positions,\n",
    "    \"input_dim\":input_dim,\n",
    "    \"latent_dim\":latent_dim,\n",
    "    \"projection_dim\" : projection_dim,\n",
    "    \"embed_dim\":embed_dim,\n",
    "    \"num_heads\":num_heads,\n",
    "    \"num_layers\":num_layers,\n",
    "    \"context_size\":window_size,\n",
    "    \"dropout\":dropout,\n",
    "    \"bias\" : bias,\n",
    "    \"device\":device,\n",
    "    \"gamma\" : 0.5,\n",
    "    \"ntx_temp\" : 0.1,\n",
    "    \"torch_compile\" : False,\n",
    "    \"amp\":False,\n",
    "\n",
    "}\n",
    "\n",
    "model = dp.cv.Sane(**Sane_params)"
   ]
  },
  {
   "cell_type": "markdown",
   "id": "154e0c35-663b-4d24-b00d-7d28268ee1c1",
   "metadata": {},
   "source": [
    "# Inputs"
   ]
  },
  {
   "cell_type": "code",
   "execution_count": 6,
   "id": "a8549171-483b-44dd-abfe-35a9b7bf14b5",
   "metadata": {},
   "outputs": [
    {
     "name": "stdout",
     "output_type": "stream",
     "text": [
      "Inp shape : torch.Size([32, 16, 64])\n",
      "mask shape : torch.Size([32, 16, 64])\n",
      "positions shape : torch.Size([32, 16, 3])\n"
     ]
    }
   ],
   "source": [
    "cout = window_size\n",
    "cr = input_dim\n",
    "\n",
    "tokenized_input = torch.rand(size = (batch_size, cout, cr)).to(device)\n",
    "mask = torch.log(torch.randint(0,2,size = tokenized_input.size())).to(device)\n",
    "positions = torch.randint(0,500, size = (batch_size,cout,3)).to(device)\n",
    "\n",
    "tokenized_input2 = torch.rand(size = (batch_size, cout, cr)).to(device)\n",
    "mask2 = torch.log(torch.randint(0,2,size = tokenized_input.size())).to(device)\n",
    "positions2 = torch.randint(0,500, size = (batch_size,cout,3)).to(device)\n",
    "\n",
    "print(f\"Inp shape : {tokenized_input.shape}\")\n",
    "print(f\"mask shape : {mask.shape}\")\n",
    "print(f\"positions shape : {positions.shape}\")"
   ]
  },
  {
   "cell_type": "code",
   "execution_count": 9,
   "id": "d56010bb-1512-4837-b2a0-c6e33b252195",
   "metadata": {},
   "outputs": [
    {
     "name": "stdout",
     "output_type": "stream",
     "text": [
      "Inp shape : torch.Size([16, 16, 64])\n",
      "mask shape : torch.Size([16, 16, 64])\n",
      "positions shape : torch.Size([16, 16, 3])\n"
     ]
    }
   ],
   "source": [
    "\n",
    "\n",
    "#tokenized_input,positions,mask, tokenized_input2,positions2,mask2 = ddata.train_data()\n",
    "tokenized_input,positions,mask, tokenized_input2,positions2,mask2 = ddata.train_data()\n",
    "\n",
    "print(f\"Inp shape : {tokenized_input.shape}\")\n",
    "print(f\"mask shape : {mask.shape}\")\n",
    "print(f\"positions shape : {positions.shape}\")"
   ]
  },
  {
   "cell_type": "markdown",
   "id": "f22e61cc-0262-48ee-8322-b7ab386a3ce1",
   "metadata": {
    "jp-MarkdownHeadingCollapsed": true
   },
   "source": [
    "## Encode"
   ]
  },
  {
   "cell_type": "code",
   "execution_count": 10,
   "id": "fbf9870c-2903-48b3-be88-a1f27dc042a7",
   "metadata": {},
   "outputs": [
    {
     "name": "stdout",
     "output_type": "stream",
     "text": [
      "Latent space : torch.Size([16, 16, 128])\n"
     ]
    }
   ],
   "source": [
    "latent = model.encode((tokenized_input,positions))\n",
    "print(f\"Latent space : {latent.shape}\")"
   ]
  },
  {
   "cell_type": "code",
   "execution_count": 12,
   "id": "19bb2c34-7ae7-4bc6-b314-a7de7863fc2d",
   "metadata": {},
   "outputs": [
    {
     "name": "stdout",
     "output_type": "stream",
     "text": [
      "Tokenized input : torch.Size([16, 16, 64])\n",
      "Position encoding + dropout : torch.Size([16, 16, 64])\n",
      "After transformer encoder : torch.Size([16, 16, 64])\n",
      "Latent space : torch.Size([16, 16, 128])\n"
     ]
    }
   ],
   "source": [
    "T,p = (tokenized_input.to(device),positions.to(device))\n",
    "\n",
    "\n",
    "T = model.autoencoder.model[0]((T,p))\n",
    "print(f\"Tokenized input : {T[0].shape}\")\n",
    "\n",
    "T = model.autoencoder.model[1](T)\n",
    "T = model.autoencoder.model[2](T)\n",
    "print(f\"Position encoding + dropout : {T.shape}\")\n",
    "\n",
    "T = model.autoencoder.model[3](T)\n",
    "print(f\"After transformer encoder : {T.shape}\")\n",
    "\n",
    "latent = model.autoencoder.model[4](T)\n",
    "print(f\"Latent space : {latent.shape}\")"
   ]
  },
  {
   "cell_type": "markdown",
   "id": "3c4e4679-9089-439d-838a-db408b6cd952",
   "metadata": {
    "jp-MarkdownHeadingCollapsed": true
   },
   "source": [
    "## Decode"
   ]
  },
  {
   "cell_type": "code",
   "execution_count": 13,
   "id": "3ad68be0-1580-40bd-ba90-2120737a992c",
   "metadata": {},
   "outputs": [
    {
     "name": "stdout",
     "output_type": "stream",
     "text": [
      "Output : torch.Size([16, 16, 64])\n"
     ]
    }
   ],
   "source": [
    "z = model.decode((latent,positions))\n",
    "print(f\"Output : {z.shape}\")"
   ]
  },
  {
   "cell_type": "code",
   "execution_count": 14,
   "id": "d09b4233-d45d-484b-af35-1be5d73afd2b",
   "metadata": {},
   "outputs": [
    {
     "name": "stdout",
     "output_type": "stream",
     "text": [
      "Decoder compression : torch.Size([16, 16, 64])\n",
      "Decoder position encoding + dropout : torch.Size([16, 16, 64])\n",
      "Decoder transformer : torch.Size([16, 16, 64])\n",
      "Output : torch.Size([16, 16, 64])\n"
     ]
    }
   ],
   "source": [
    "T,p = (latent.to(device),positions.to(device))\n",
    "\n",
    "\n",
    "T = model.autoencoder.model[5]((T,p))\n",
    "print(f\"Decoder compression : {T[0].shape}\")\n",
    "\n",
    "T = model.autoencoder.model[6](T)\n",
    "T = model.autoencoder.model[7](T)\n",
    "print(f\"Decoder position encoding + dropout : {T.shape}\")\n",
    "\n",
    "T = model.autoencoder.model[8](T)\n",
    "print(f\"Decoder transformer : {T.shape}\")\n",
    "\n",
    "z = model.autoencoder.model[9](T)\n",
    "print(f\"Output : {z.shape}\")"
   ]
  },
  {
   "cell_type": "markdown",
   "id": "f8d2ec6b-f859-40c1-8171-5b4a1a1dbc63",
   "metadata": {},
   "source": [
    "## Autoencoder Full Pass"
   ]
  },
  {
   "cell_type": "code",
   "execution_count": 15,
   "id": "36a1e326-122c-4b14-b072-c243548f681d",
   "metadata": {},
   "outputs": [
    {
     "name": "stdout",
     "output_type": "stream",
     "text": [
      "Output : torch.Size([16, 16, 64])\n"
     ]
    }
   ],
   "source": [
    "z,y, zp = model((tokenized_input,positions))\n",
    "print(f\"Output : {y.shape}\")"
   ]
  },
  {
   "cell_type": "markdown",
   "id": "30a811d5-a94c-4732-928b-c391941a11f5",
   "metadata": {},
   "source": [
    "# Projection Head"
   ]
  },
  {
   "cell_type": "code",
   "execution_count": 16,
   "id": "ae9e8a07-ca60-4bb7-8f71-047511dc2871",
   "metadata": {},
   "outputs": [
    {
     "data": {
      "text/plain": [
       "Network(\n",
       "  (model): Sequential(\n",
       "    (0): SqueezeLastDimention()\n",
       "    (1): Linear(in_features=2048, out_features=10, bias=False)\n",
       "    (2): LayerNorm((10,), eps=1e-05, elementwise_affine=True)\n",
       "    (3): ReLU()\n",
       "    (4): Linear(in_features=10, out_features=10, bias=False)\n",
       "    (5): LayerNorm((10,), eps=1e-05, elementwise_affine=True)\n",
       "    (6): ReLU()\n",
       "  )\n",
       ")"
      ]
     },
     "execution_count": 16,
     "metadata": {},
     "output_type": "execute_result"
    }
   ],
   "source": [
    "model.project"
   ]
  },
  {
   "cell_type": "code",
   "execution_count": 17,
   "id": "a67a25a1-b617-4485-9a06-c7abf472188f",
   "metadata": {},
   "outputs": [
    {
     "name": "stdout",
     "output_type": "stream",
     "text": [
      "Latent size : torch.Size([16, 16, 128])\n",
      "Projection head output size : torch.Size([16, 10])\n"
     ]
    }
   ],
   "source": [
    "latent = model.encode((tokenized_input,positions))\n",
    "p = model.project(latent)\n",
    "print(f\"Latent size : {latent.shape}\")\n",
    "print(f\"Projection head output size : {p.shape}\")"
   ]
  },
  {
   "cell_type": "markdown",
   "id": "2c228a77-9de1-429c-bbe5-9908afb6e244",
   "metadata": {},
   "source": [
    "# Create A LearnFrame"
   ]
  },
  {
   "cell_type": "code",
   "execution_count": 7,
   "id": "df386ad3-9763-47bb-af57-def7f0e8284c",
   "metadata": {},
   "outputs": [],
   "source": [
    "lf = LearnFrame(model,ddata)"
   ]
  },
  {
   "cell_type": "markdown",
   "id": "d1b5a9b8-d3ca-476e-a132-fb7b33e5bc27",
   "metadata": {},
   "source": [
    "# Train a Batch"
   ]
  },
  {
   "cell_type": "code",
   "execution_count": 9,
   "id": "5b4ed7c9-735d-47fa-84ac-d0a69a9456c1",
   "metadata": {},
   "outputs": [
    {
     "name": "stdout",
     "output_type": "stream",
     "text": [
      "770.2403266429901\n"
     ]
    },
    {
     "data": {
      "image/png": "[encoded data removed]",
      "text/plain": [
       "<Figure size 1000x600 with 1 Axes>"
      ]
     },
     "metadata": {},
     "output_type": "display_data"
    },
    {
     "data": {
      "text/plain": [
       "<Figure size 640x480 with 0 Axes>"
      ]
     },
     "metadata": {},
     "output_type": "display_data"
    },
    {
     "data": {
      "text/plain": [
       "<Figure size 640x480 with 0 Axes>"
      ]
     },
     "metadata": {},
     "output_type": "display_data"
    }
   ],
   "source": [
    "import time\n",
    "\n",
    "st = time.time()\n",
    "for i in range(100):\n",
    "    lf.optimize()\n",
    "print(time.time()-st)\n",
    "lf.plot(show_result = True, log = True)"
   ]
  },
  {
   "cell_type": "code",
   "execution_count": 14,
   "id": "0ddd5cb6-72cd-447f-8e21-7988d144bc44",
   "metadata": {},
   "outputs": [],
   "source": [
    "#AMP Enabled  39.35s"
   ]
  },
  {
   "cell_type": "markdown",
   "id": "85323026-cec9-4f5f-bd52-6eca95c72674",
   "metadata": {},
   "source": [
    "# Test a Batch"
   ]
  },
  {
   "cell_type": "code",
   "execution_count": 15,
   "id": "2ea6dab8-d706-460c-8cec-dd1661dc884c",
   "metadata": {},
   "outputs": [
    {
     "name": "stdout",
     "output_type": "stream",
     "text": [
      "Loss train : 2.5419931411743164\n"
     ]
    }
   ],
   "source": [
    "lf.test()\n",
    "print(f\"Loss train : {lf.metric.test_data[-1]}\")"
   ]
  },
  {
   "cell_type": "code",
   "execution_count": null,
   "id": "8fc58981-780c-48fe-a8ea-2fe08548dd8d",
   "metadata": {},
   "outputs": [],
   "source": []
  }
 ],
 "metadata": {
  "kernelspec": {
   "display_name": "Python 3 (ipykernel)",
   "language": "python",
   "name": "python3"
  },
  "language_info": {
   "codemirror_mode": {
    "name": "ipython",
    "version": 3
   },
   "file_extension": ".py",
   "mimetype": "text/x-python",
   "name": "python",
   "nbconvert_exporter": "python",
   "pygments_lexer": "ipython3",
   "version": "3.13.2"
  }
 },
 "nbformat": 4,
 "nbformat_minor": 5
}
